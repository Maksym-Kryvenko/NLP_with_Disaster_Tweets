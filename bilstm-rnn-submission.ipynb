{
 "cells": [
  {
   "cell_type": "code",
   "execution_count": 1,
   "id": "7dc19e37",
   "metadata": {
    "execution": {
     "iopub.execute_input": "2024-03-25T20:22:47.582109Z",
     "iopub.status.busy": "2024-03-25T20:22:47.581636Z",
     "iopub.status.idle": "2024-03-25T20:23:03.017175Z",
     "shell.execute_reply": "2024-03-25T20:23:03.015911Z"
    },
    "papermill": {
     "duration": 15.455957,
     "end_time": "2024-03-25T20:23:03.019481",
     "exception": false,
     "start_time": "2024-03-25T20:22:47.563524",
     "status": "completed"
    },
    "tags": []
   },
   "outputs": [
    {
     "name": "stderr",
     "output_type": "stream",
     "text": [
      "2024-03-25 20:22:51.643179: E external/local_xla/xla/stream_executor/cuda/cuda_dnn.cc:9261] Unable to register cuDNN factory: Attempting to register factory for plugin cuDNN when one has already been registered\n",
      "2024-03-25 20:22:51.643283: E external/local_xla/xla/stream_executor/cuda/cuda_fft.cc:607] Unable to register cuFFT factory: Attempting to register factory for plugin cuFFT when one has already been registered\n",
      "2024-03-25 20:22:51.777838: E external/local_xla/xla/stream_executor/cuda/cuda_blas.cc:1515] Unable to register cuBLAS factory: Attempting to register factory for plugin cuBLAS when one has already been registered\n"
     ]
    },
    {
     "name": "stdout",
     "output_type": "stream",
     "text": [
      "[nltk_data] Downloading package punkt to /usr/share/nltk_data...\n",
      "[nltk_data]   Package punkt is already up-to-date!\n",
      "[nltk_data] Downloading package stopwords to /usr/share/nltk_data...\n",
      "[nltk_data]   Package stopwords is already up-to-date!\n"
     ]
    },
    {
     "data": {
      "text/plain": [
       "True"
      ]
     },
     "execution_count": 1,
     "metadata": {},
     "output_type": "execute_result"
    }
   ],
   "source": [
    "import pandas as pd\n",
    "import numpy as np\n",
    "import seaborn as sns\n",
    "import matplotlib.pyplot as plt\n",
    "import re\n",
    "import tensorflow as tf\n",
    "from tensorflow.keras.callbacks import EarlyStopping\n",
    "import warnings\n",
    "warnings.filterwarnings('ignore')\n",
    "import nltk\n",
    "from nltk.tokenize import word_tokenize\n",
    "from collections import Counter\n",
    "from keras.preprocessing import sequence\n",
    "from sklearn.model_selection import train_test_split\n",
    "from tensorflow.keras.models import Sequential\n",
    "from tensorflow.keras.layers import *\n",
    "from tensorflow.keras.preprocessing.sequence import pad_sequences\n",
    "from tensorflow.keras.preprocessing.text import Tokenizer\n",
    "from nltk.corpus import stopwords\n",
    "from nltk.stem import PorterStemmer\n",
    "from sklearn.metrics import confusion_matrix, classification_report\n",
    "\n",
    "nltk.download('punkt')\n",
    "nltk.download('stopwords')"
   ]
  },
  {
   "cell_type": "code",
   "execution_count": 2,
   "id": "1f3cd490",
   "metadata": {
    "execution": {
     "iopub.execute_input": "2024-03-25T20:23:03.064178Z",
     "iopub.status.busy": "2024-03-25T20:23:03.063513Z",
     "iopub.status.idle": "2024-03-25T20:23:03.123084Z",
     "shell.execute_reply": "2024-03-25T20:23:03.122028Z"
    },
    "papermill": {
     "duration": 0.081745,
     "end_time": "2024-03-25T20:23:03.125509",
     "exception": false,
     "start_time": "2024-03-25T20:23:03.043764",
     "status": "completed"
    },
    "tags": []
   },
   "outputs": [],
   "source": [
    "df = pd.read_csv('/kaggle/input/nlp-getting-started/train.csv')"
   ]
  },
  {
   "cell_type": "code",
   "execution_count": 3,
   "id": "a342b805",
   "metadata": {
    "execution": {
     "iopub.execute_input": "2024-03-25T20:23:03.161416Z",
     "iopub.status.busy": "2024-03-25T20:23:03.160570Z",
     "iopub.status.idle": "2024-03-25T20:23:03.183296Z",
     "shell.execute_reply": "2024-03-25T20:23:03.182367Z"
    },
    "papermill": {
     "duration": 0.042971,
     "end_time": "2024-03-25T20:23:03.185629",
     "exception": false,
     "start_time": "2024-03-25T20:23:03.142658",
     "status": "completed"
    },
    "tags": []
   },
   "outputs": [],
   "source": [
    "test = pd.read_csv('/kaggle/input/nlp-getting-started/test.csv')"
   ]
  },
  {
   "cell_type": "code",
   "execution_count": 4,
   "id": "0f5f394d",
   "metadata": {
    "execution": {
     "iopub.execute_input": "2024-03-25T20:23:03.222473Z",
     "iopub.status.busy": "2024-03-25T20:23:03.222066Z",
     "iopub.status.idle": "2024-03-25T20:23:03.226426Z",
     "shell.execute_reply": "2024-03-25T20:23:03.225467Z"
    },
    "papermill": {
     "duration": 0.025161,
     "end_time": "2024-03-25T20:23:03.228556",
     "exception": false,
     "start_time": "2024-03-25T20:23:03.203395",
     "status": "completed"
    },
    "tags": []
   },
   "outputs": [],
   "source": [
    "#test"
   ]
  },
  {
   "cell_type": "code",
   "execution_count": 5,
   "id": "9644f504",
   "metadata": {
    "execution": {
     "iopub.execute_input": "2024-03-25T20:23:03.265239Z",
     "iopub.status.busy": "2024-03-25T20:23:03.264871Z",
     "iopub.status.idle": "2024-03-25T20:23:03.269042Z",
     "shell.execute_reply": "2024-03-25T20:23:03.268100Z"
    },
    "papermill": {
     "duration": 0.024724,
     "end_time": "2024-03-25T20:23:03.270970",
     "exception": false,
     "start_time": "2024-03-25T20:23:03.246246",
     "status": "completed"
    },
    "tags": []
   },
   "outputs": [],
   "source": [
    "#X_test = test['text']"
   ]
  },
  {
   "cell_type": "code",
   "execution_count": 6,
   "id": "b0e4a1fc",
   "metadata": {
    "execution": {
     "iopub.execute_input": "2024-03-25T20:23:03.306734Z",
     "iopub.status.busy": "2024-03-25T20:23:03.306399Z",
     "iopub.status.idle": "2024-03-25T20:23:03.310440Z",
     "shell.execute_reply": "2024-03-25T20:23:03.309527Z"
    },
    "papermill": {
     "duration": 0.024242,
     "end_time": "2024-03-25T20:23:03.312628",
     "exception": false,
     "start_time": "2024-03-25T20:23:03.288386",
     "status": "completed"
    },
    "tags": []
   },
   "outputs": [],
   "source": [
    "#df.sample(20)"
   ]
  },
  {
   "cell_type": "code",
   "execution_count": 7,
   "id": "f0d74a4a",
   "metadata": {
    "execution": {
     "iopub.execute_input": "2024-03-25T20:23:03.348483Z",
     "iopub.status.busy": "2024-03-25T20:23:03.348141Z",
     "iopub.status.idle": "2024-03-25T20:23:03.365412Z",
     "shell.execute_reply": "2024-03-25T20:23:03.364228Z"
    },
    "papermill": {
     "duration": 0.038263,
     "end_time": "2024-03-25T20:23:03.367937",
     "exception": false,
     "start_time": "2024-03-25T20:23:03.329674",
     "status": "completed"
    },
    "tags": []
   },
   "outputs": [
    {
     "name": "stdout",
     "output_type": "stream",
     "text": [
      "keyword\n",
      "fatalities               45\n",
      "armageddon               42\n",
      "deluge                   42\n",
      "harm                     41\n",
      "damage                   41\n",
      "                         ..\n",
      "forest%20fire            19\n",
      "epicentre                12\n",
      "threat                   11\n",
      "inundation               10\n",
      "radiation%20emergency     9\n",
      "Name: count, Length: 221, dtype: int64\n",
      "221\n"
     ]
    }
   ],
   "source": [
    "print(df['keyword'].value_counts())\n",
    "print(df['keyword'].nunique())"
   ]
  },
  {
   "cell_type": "code",
   "execution_count": 8,
   "id": "02e5344d",
   "metadata": {
    "execution": {
     "iopub.execute_input": "2024-03-25T20:23:03.405549Z",
     "iopub.status.busy": "2024-03-25T20:23:03.405210Z",
     "iopub.status.idle": "2024-03-25T20:23:03.412913Z",
     "shell.execute_reply": "2024-03-25T20:23:03.411883Z"
    },
    "papermill": {
     "duration": 0.028552,
     "end_time": "2024-03-25T20:23:03.415271",
     "exception": false,
     "start_time": "2024-03-25T20:23:03.386719",
     "status": "completed"
    },
    "tags": []
   },
   "outputs": [
    {
     "name": "stdout",
     "output_type": "stream",
     "text": [
      "target\n",
      "0    4342\n",
      "1    3271\n",
      "Name: count, dtype: int64\n"
     ]
    }
   ],
   "source": [
    "print(df['target'].value_counts())"
   ]
  },
  {
   "cell_type": "code",
   "execution_count": 9,
   "id": "cef4c45a",
   "metadata": {
    "execution": {
     "iopub.execute_input": "2024-03-25T20:23:03.451321Z",
     "iopub.status.busy": "2024-03-25T20:23:03.450962Z",
     "iopub.status.idle": "2024-03-25T20:23:03.685234Z",
     "shell.execute_reply": "2024-03-25T20:23:03.684281Z"
    },
    "papermill": {
     "duration": 0.254495,
     "end_time": "2024-03-25T20:23:03.687277",
     "exception": false,
     "start_time": "2024-03-25T20:23:03.432782",
     "status": "completed"
    },
    "tags": []
   },
   "outputs": [
    {
     "data": {
      "text/plain": [
       "Text(0, 0.5, 'Count')"
      ]
     },
     "execution_count": 9,
     "metadata": {},
     "output_type": "execute_result"
    },
    {
     "data": {
      "image/png": "[encoded data removed]",
      "text/plain": [
       "<Figure size 640x480 with 1 Axes>"
      ]
     },
     "metadata": {},
     "output_type": "display_data"
    }
   ],
   "source": [
    "sns.countplot(data=df, x='target')\n",
    "plt.title('Distribution of target variable')\n",
    "plt.xlabel('Target')\n",
    "plt.ylabel('Count')"
   ]
  },
  {
   "cell_type": "code",
   "execution_count": 10,
   "id": "662a4ecc",
   "metadata": {
    "execution": {
     "iopub.execute_input": "2024-03-25T20:23:03.724365Z",
     "iopub.status.busy": "2024-03-25T20:23:03.723678Z",
     "iopub.status.idle": "2024-03-25T20:23:03.738390Z",
     "shell.execute_reply": "2024-03-25T20:23:03.737445Z"
    },
    "papermill": {
     "duration": 0.035669,
     "end_time": "2024-03-25T20:23:03.740569",
     "exception": false,
     "start_time": "2024-03-25T20:23:03.704900",
     "status": "completed"
    },
    "tags": []
   },
   "outputs": [
    {
     "data": {
      "text/plain": [
       "0"
      ]
     },
     "execution_count": 10,
     "metadata": {},
     "output_type": "execute_result"
    }
   ],
   "source": [
    "df.duplicated().sum()"
   ]
  },
  {
   "cell_type": "code",
   "execution_count": 11,
   "id": "b9f7c23e",
   "metadata": {
    "execution": {
     "iopub.execute_input": "2024-03-25T20:23:03.776682Z",
     "iopub.status.busy": "2024-03-25T20:23:03.776366Z",
     "iopub.status.idle": "2024-03-25T20:23:03.787865Z",
     "shell.execute_reply": "2024-03-25T20:23:03.786949Z"
    },
    "papermill": {
     "duration": 0.032273,
     "end_time": "2024-03-25T20:23:03.790439",
     "exception": false,
     "start_time": "2024-03-25T20:23:03.758166",
     "status": "completed"
    },
    "tags": []
   },
   "outputs": [
    {
     "data": {
      "text/plain": [
       "id             0\n",
       "keyword       61\n",
       "location    2533\n",
       "text           0\n",
       "target         0\n",
       "dtype: int64"
      ]
     },
     "execution_count": 11,
     "metadata": {},
     "output_type": "execute_result"
    }
   ],
   "source": [
    "df.isna().sum()"
   ]
  },
  {
   "cell_type": "markdown",
   "id": "3bbc4b47",
   "metadata": {
    "papermill": {
     "duration": 0.018246,
     "end_time": "2024-03-25T20:23:03.828764",
     "exception": false,
     "start_time": "2024-03-25T20:23:03.810518",
     "status": "completed"
    },
    "tags": []
   },
   "source": [
    "### Find the longest tweet in whole dataset"
   ]
  },
  {
   "cell_type": "code",
   "execution_count": 12,
   "id": "5f00fda1",
   "metadata": {
    "execution": {
     "iopub.execute_input": "2024-03-25T20:23:03.866771Z",
     "iopub.status.busy": "2024-03-25T20:23:03.866404Z",
     "iopub.status.idle": "2024-03-25T20:23:03.873836Z",
     "shell.execute_reply": "2024-03-25T20:23:03.872876Z"
    },
    "papermill": {
     "duration": 0.029001,
     "end_time": "2024-03-25T20:23:03.875857",
     "exception": false,
     "start_time": "2024-03-25T20:23:03.846856",
     "status": "completed"
    },
    "tags": []
   },
   "outputs": [],
   "source": [
    "all_data = pd.concat([df, test])"
   ]
  },
  {
   "cell_type": "code",
   "execution_count": 13,
   "id": "2ae381ac",
   "metadata": {
    "execution": {
     "iopub.execute_input": "2024-03-25T20:23:03.913534Z",
     "iopub.status.busy": "2024-03-25T20:23:03.913178Z",
     "iopub.status.idle": "2024-03-25T20:23:04.297272Z",
     "shell.execute_reply": "2024-03-25T20:23:04.296295Z"
    },
    "papermill": {
     "duration": 0.405277,
     "end_time": "2024-03-25T20:23:04.299322",
     "exception": false,
     "start_time": "2024-03-25T20:23:03.894045",
     "status": "completed"
    },
    "tags": []
   },
   "outputs": [
    {
     "data": {
      "image/png": "[encoded data removed]",
      "text/plain": [
       "<Figure size 640x480 with 1 Axes>"
      ]
     },
     "metadata": {},
     "output_type": "display_data"
    }
   ],
   "source": [
    "all_data['tweet_length'] = all_data.text.apply(len)\n",
    "sns.histplot(all_data['tweet_length'])\n",
    "plt.axvline(all_data['tweet_length'].max(), c='red')\n",
    "plt.show()"
   ]
  },
  {
   "cell_type": "markdown",
   "id": "6745d282",
   "metadata": {
    "papermill": {
     "duration": 0.018466,
     "end_time": "2024-03-25T20:23:04.336211",
     "exception": false,
     "start_time": "2024-03-25T20:23:04.317745",
     "status": "completed"
    },
    "tags": []
   },
   "source": [
    "### Compare length distribution of disaster and non disaster tweets "
   ]
  },
  {
   "cell_type": "code",
   "execution_count": 14,
   "id": "5be1b79f",
   "metadata": {
    "execution": {
     "iopub.execute_input": "2024-03-25T20:23:04.374425Z",
     "iopub.status.busy": "2024-03-25T20:23:04.374079Z",
     "iopub.status.idle": "2024-03-25T20:23:05.158782Z",
     "shell.execute_reply": "2024-03-25T20:23:05.157819Z"
    },
    "papermill": {
     "duration": 0.80656,
     "end_time": "2024-03-25T20:23:05.161297",
     "exception": false,
     "start_time": "2024-03-25T20:23:04.354737",
     "status": "completed"
    },
    "tags": []
   },
   "outputs": [
    {
     "data": {
      "image/png": "[encoded data removed]",
      "text/plain": [
       "<Figure size 1000x500 with 1 Axes>"
      ]
     },
     "metadata": {},
     "output_type": "display_data"
    }
   ],
   "source": [
    "plt.figure(figsize=(10,5))\n",
    "sns.histplot(\n",
    "    data=all_data,\n",
    "    x='tweet_length',\n",
    "    hue='target',\n",
    "    bins=100,\n",
    "    palette={0: 'green', 1: 'red'}\n",
    ")\n",
    "\n",
    "plt.title(\"Interactive Histogram of Tweet Lengths by Disaster and Non-Disaster Tweets\")\n",
    "plt.show()"
   ]
  },
  {
   "cell_type": "markdown",
   "id": "de87862a",
   "metadata": {
    "papermill": {
     "duration": 0.018705,
     "end_time": "2024-03-25T20:23:05.199400",
     "exception": false,
     "start_time": "2024-03-25T20:23:05.180695",
     "status": "completed"
    },
    "tags": []
   },
   "source": [
    "# TEXT PREPROCESSING"
   ]
  },
  {
   "cell_type": "markdown",
   "id": "6ddca2cc",
   "metadata": {
    "papermill": {
     "duration": 0.018469,
     "end_time": "2024-03-25T20:23:05.236800",
     "exception": false,
     "start_time": "2024-03-25T20:23:05.218331",
     "status": "completed"
    },
    "tags": []
   },
   "source": [
    "1. CHAT WORDS"
   ]
  },
  {
   "cell_type": "code",
   "execution_count": 15,
   "id": "e422d11f",
   "metadata": {
    "execution": {
     "iopub.execute_input": "2024-03-25T20:23:05.275624Z",
     "iopub.status.busy": "2024-03-25T20:23:05.275279Z",
     "iopub.status.idle": "2024-03-25T20:23:05.288021Z",
     "shell.execute_reply": "2024-03-25T20:23:05.287125Z"
    },
    "papermill": {
     "duration": 0.03515,
     "end_time": "2024-03-25T20:23:05.290179",
     "exception": false,
     "start_time": "2024-03-25T20:23:05.255029",
     "status": "completed"
    },
    "tags": []
   },
   "outputs": [],
   "source": [
    "# Define a dictionary of chat word mappings\n",
    "chat_words = {\n",
    "    \"AFAIK\": \"As Far As I Know\",\n",
    "    \"AFK\": \"Away From Keyboard\",\n",
    "    \"ASAP\": \"As Soon As Possible\",\n",
    "    \"ATK\": \"At The Keyboard\",\n",
    "    \"ATM\": \"At The Moment\",\n",
    "    \"A3\": \"Anytime, Anywhere, Anyplace\",\n",
    "    \"BAK\": \"Back At Keyboard\",\n",
    "    \"BBL\": \"Be Back Later\",\n",
    "    \"BBS\": \"Be Back Soon\",\n",
    "    \"BFN\": \"Bye For Now\",\n",
    "    \"B4N\": \"Bye For Now\",\n",
    "    \"BRB\": \"Be Right Back\",\n",
    "    \"BRT\": \"Be Right There\",\n",
    "    \"BTW\": \"By The Way\",\n",
    "    \"B4\": \"Before\",\n",
    "    \"B4N\": \"Bye For Now\",\n",
    "    \"CU\": \"See You\",\n",
    "    \"CUL8R\": \"See You Later\",\n",
    "    \"CYA\": \"See You\",\n",
    "    \"FAQ\": \"Frequently Asked Questions\",\n",
    "    \"FC\": \"Fingers Crossed\",\n",
    "    \"FWIW\": \"For What It's Worth\",\n",
    "    \"FYI\": \"For Your Information\",\n",
    "    \"GAL\": \"Get A Life\",\n",
    "    \"GG\": \"Good Game\",\n",
    "    \"GN\": \"Good Night\",\n",
    "    \"GMTA\": \"Great Minds Think Alike\",\n",
    "    \"GR8\": \"Great!\",\n",
    "    \"G9\": \"Genius\",\n",
    "    \"IC\": \"I See\",\n",
    "    \"ICQ\": \"I Seek you (also a chat program)\",\n",
    "    \"ILU\": \"ILU: I Love You\",\n",
    "    \"IMHO\": \"In My Honest/Humble Opinion\",\n",
    "    \"IMO\": \"In My Opinion\",\n",
    "    \"IOW\": \"In Other Words\",\n",
    "    \"IRL\": \"In Real Life\",\n",
    "    \"KISS\": \"Keep It Simple, Stupid\",\n",
    "    \"LDR\": \"Long Distance Relationship\",\n",
    "    \"LMAO\": \"Laugh My A.. Off\",\n",
    "    \"LOL\": \"Laughing Out Loud\",\n",
    "    \"LTNS\": \"Long Time No See\",\n",
    "    \"L8R\": \"Later\",\n",
    "    \"MTE\": \"My Thoughts Exactly\",\n",
    "    \"M8\": \"Mate\",\n",
    "    \"NRN\": \"No Reply Necessary\",\n",
    "    \"OIC\": \"Oh I See\",\n",
    "    \"PITA\": \"Pain In The A..\",\n",
    "    \"PRT\": \"Party\",\n",
    "    \"PRW\": \"Parents Are Watching\",\n",
    "    \"QPSA?\": \"Que Pasa?\",\n",
    "    \"ROFL\": \"Rolling On The Floor Laughing\",\n",
    "    \"ROFLOL\": \"Rolling On The Floor Laughing Out Loud\",\n",
    "    \"ROTFLMAO\": \"Rolling On The Floor Laughing My A.. Off\",\n",
    "    \"SK8\": \"Skate\",\n",
    "    \"STATS\": \"Your sex and age\",\n",
    "    \"ASL\": \"Age, Sex, Location\",\n",
    "    \"THX\": \"Thank You\",\n",
    "    \"TTFN\": \"Ta-Ta For Now!\",\n",
    "    \"TTYL\": \"Talk To You Later\",\n",
    "    \"U\": \"You\",\n",
    "    \"U2\": \"You Too\",\n",
    "    \"U4E\": \"Yours For Ever\",\n",
    "    \"WB\": \"Welcome Back\",\n",
    "    \"WTF\": \"What The F...\",\n",
    "    \"WTG\": \"Way To Go!\",\n",
    "    \"WUF\": \"Where Are You From?\",\n",
    "    \"W8\": \"Wait...\",\n",
    "    \"7K\": \"Sick:-D Laugher\",\n",
    "    \"TFW\": \"That feeling when\",\n",
    "    \"MFW\": \"My face when\",\n",
    "    \"MRW\": \"My reaction when\",\n",
    "    \"IFYP\": \"I feel your pain\",\n",
    "    \"TNTL\": \"Trying not to laugh\",\n",
    "    \"JK\": \"Just kidding\",\n",
    "    \"IDC\": \"I don't care\",\n",
    "    \"ILY\": \"I love you\",\n",
    "    \"IMU\": \"I miss you\",\n",
    "    \"ADIH\": \"Another day in hell\",\n",
    "    \"ZZZ\": \"Sleeping, bored, tired\",\n",
    "    \"WYWH\": \"Wish you were here\",\n",
    "    \"TIME\": \"Tears in my eyes\",\n",
    "    \"BAE\": \"Before anyone else\",\n",
    "    \"FIMH\": \"Forever in my heart\",\n",
    "    \"BSAAW\": \"Big smile and a wink\",\n",
    "    \"BWL\": \"Bursting with laughter\",\n",
    "    \"BFF\": \"Best friends forever\",\n",
    "    \"CSL\": \"Can't stop laughing\"\n",
    "}"
   ]
  },
  {
   "cell_type": "code",
   "execution_count": 16,
   "id": "c84d15d8",
   "metadata": {
    "execution": {
     "iopub.execute_input": "2024-03-25T20:23:05.329723Z",
     "iopub.status.busy": "2024-03-25T20:23:05.328864Z",
     "iopub.status.idle": "2024-03-25T20:23:05.400235Z",
     "shell.execute_reply": "2024-03-25T20:23:05.399331Z"
    },
    "papermill": {
     "duration": 0.093514,
     "end_time": "2024-03-25T20:23:05.402419",
     "exception": false,
     "start_time": "2024-03-25T20:23:05.308905",
     "status": "completed"
    },
    "tags": []
   },
   "outputs": [],
   "source": [
    "# Function to replace chat words with their full forms\n",
    "def replace_chat_words(text):\n",
    "    words = text.split()\n",
    "    for i, word in enumerate(words):\n",
    "        if word.upper() in chat_words:\n",
    "            words[i] = chat_words[word.upper()]\n",
    "    return ' '.join(words)\n",
    "\n",
    "# Apply replace_chat_words function to 'Text' column\n",
    "df['text'] = df['text'].apply(replace_chat_words)\n",
    "test['text'] = test['text'].apply(replace_chat_words)"
   ]
  },
  {
   "cell_type": "markdown",
   "id": "9c75932e",
   "metadata": {
    "papermill": {
     "duration": 0.019715,
     "end_time": "2024-03-25T20:23:05.489083",
     "exception": false,
     "start_time": "2024-03-25T20:23:05.469368",
     "status": "completed"
    },
    "tags": []
   },
   "source": [
    "2.NON ALPHA NUMERIC CHARACTERS"
   ]
  },
  {
   "cell_type": "code",
   "execution_count": 17,
   "id": "3b634c0d",
   "metadata": {
    "execution": {
     "iopub.execute_input": "2024-03-25T20:23:05.528858Z",
     "iopub.status.busy": "2024-03-25T20:23:05.527972Z",
     "iopub.status.idle": "2024-03-25T20:23:05.532058Z",
     "shell.execute_reply": "2024-03-25T20:23:05.531222Z"
    },
    "papermill": {
     "duration": 0.026535,
     "end_time": "2024-03-25T20:23:05.534269",
     "exception": false,
     "start_time": "2024-03-25T20:23:05.507734",
     "status": "completed"
    },
    "tags": []
   },
   "outputs": [],
   "source": [
    "#df['text'] = df['text'].apply(lambda x: re.sub(r'[^a-zA-Z\\s]', '', x))\n",
    "\n",
    "#df.sample(10)"
   ]
  },
  {
   "cell_type": "markdown",
   "id": "db7cd16e",
   "metadata": {
    "papermill": {
     "duration": 0.017639,
     "end_time": "2024-03-25T20:23:05.570541",
     "exception": false,
     "start_time": "2024-03-25T20:23:05.552902",
     "status": "completed"
    },
    "tags": []
   },
   "source": [
    "3. STOP WORDS"
   ]
  },
  {
   "cell_type": "code",
   "execution_count": 18,
   "id": "0f527b8c",
   "metadata": {
    "execution": {
     "iopub.execute_input": "2024-03-25T20:23:05.609685Z",
     "iopub.status.busy": "2024-03-25T20:23:05.608868Z",
     "iopub.status.idle": "2024-03-25T20:23:05.990365Z",
     "shell.execute_reply": "2024-03-25T20:23:05.989387Z"
    },
    "papermill": {
     "duration": 0.403492,
     "end_time": "2024-03-25T20:23:05.992648",
     "exception": false,
     "start_time": "2024-03-25T20:23:05.589156",
     "status": "completed"
    },
    "tags": []
   },
   "outputs": [
    {
     "data": {
      "text/html": [
       "<div>\n",
       "<style scoped>\n",
       "    .dataframe tbody tr th:only-of-type {\n",
       "        vertical-align: middle;\n",
       "    }\n",
       "\n",
       "    .dataframe tbody tr th {\n",
       "        vertical-align: top;\n",
       "    }\n",
       "\n",
       "    .dataframe thead th {\n",
       "        text-align: right;\n",
       "    }\n",
       "</style>\n",
       "<table border=\"1\" class=\"dataframe\">\n",
       "  <thead>\n",
       "    <tr style=\"text-align: right;\">\n",
       "      <th></th>\n",
       "      <th>id</th>\n",
       "      <th>keyword</th>\n",
       "      <th>location</th>\n",
       "      <th>text</th>\n",
       "      <th>target</th>\n",
       "    </tr>\n",
       "  </thead>\n",
       "  <tbody>\n",
       "    <tr>\n",
       "      <th>0</th>\n",
       "      <td>1</td>\n",
       "      <td>NaN</td>\n",
       "      <td>NaN</td>\n",
       "      <td>Our Deeds Reason #earthquake May ALLAH Forgive us</td>\n",
       "      <td>1</td>\n",
       "    </tr>\n",
       "    <tr>\n",
       "      <th>1</th>\n",
       "      <td>4</td>\n",
       "      <td>NaN</td>\n",
       "      <td>NaN</td>\n",
       "      <td>Forest fire near La Ronge Sask. Canada</td>\n",
       "      <td>1</td>\n",
       "    </tr>\n",
       "    <tr>\n",
       "      <th>2</th>\n",
       "      <td>5</td>\n",
       "      <td>NaN</td>\n",
       "      <td>NaN</td>\n",
       "      <td>All residents asked 'shelter place' notified o...</td>\n",
       "      <td>1</td>\n",
       "    </tr>\n",
       "    <tr>\n",
       "      <th>3</th>\n",
       "      <td>6</td>\n",
       "      <td>NaN</td>\n",
       "      <td>NaN</td>\n",
       "      <td>13,000 people receive #wildfires evacuation or...</td>\n",
       "      <td>1</td>\n",
       "    </tr>\n",
       "    <tr>\n",
       "      <th>4</th>\n",
       "      <td>7</td>\n",
       "      <td>NaN</td>\n",
       "      <td>NaN</td>\n",
       "      <td>Just got sent photo Ruby #Alaska smoke #wildfi...</td>\n",
       "      <td>1</td>\n",
       "    </tr>\n",
       "  </tbody>\n",
       "</table>\n",
       "</div>"
      ],
      "text/plain": [
       "   id keyword location                                               text  \\\n",
       "0   1     NaN      NaN  Our Deeds Reason #earthquake May ALLAH Forgive us   \n",
       "1   4     NaN      NaN             Forest fire near La Ronge Sask. Canada   \n",
       "2   5     NaN      NaN  All residents asked 'shelter place' notified o...   \n",
       "3   6     NaN      NaN  13,000 people receive #wildfires evacuation or...   \n",
       "4   7     NaN      NaN  Just got sent photo Ruby #Alaska smoke #wildfi...   \n",
       "\n",
       "   target  \n",
       "0       1  \n",
       "1       1  \n",
       "2       1  \n",
       "3       1  \n",
       "4       1  "
      ]
     },
     "execution_count": 18,
     "metadata": {},
     "output_type": "execute_result"
    }
   ],
   "source": [
    "stop = stopwords.words('english')\n",
    "df[\"text\"] = df['text'].apply(lambda x: ' '.join([word for word in x.split() if word not in (stop)]))\n",
    "test[\"text\"] = test['text'].apply(lambda x: ' '.join([word for word in x.split() if word not in (stop)]))\n",
    "\n",
    "df.head()"
   ]
  },
  {
   "cell_type": "markdown",
   "id": "bb1a061e",
   "metadata": {
    "papermill": {
     "duration": 0.019032,
     "end_time": "2024-03-25T20:23:06.031013",
     "exception": false,
     "start_time": "2024-03-25T20:23:06.011981",
     "status": "completed"
    },
    "tags": []
   },
   "source": [
    "4. LOWERCASING"
   ]
  },
  {
   "cell_type": "code",
   "execution_count": 19,
   "id": "df972dba",
   "metadata": {
    "execution": {
     "iopub.execute_input": "2024-03-25T20:23:06.070795Z",
     "iopub.status.busy": "2024-03-25T20:23:06.070428Z",
     "iopub.status.idle": "2024-03-25T20:23:06.081710Z",
     "shell.execute_reply": "2024-03-25T20:23:06.080752Z"
    },
    "papermill": {
     "duration": 0.033398,
     "end_time": "2024-03-25T20:23:06.083911",
     "exception": false,
     "start_time": "2024-03-25T20:23:06.050513",
     "status": "completed"
    },
    "tags": []
   },
   "outputs": [],
   "source": [
    "df['text'] = df['text'].str.lower()\n",
    "test['text'] = test['text'].str.lower()"
   ]
  },
  {
   "cell_type": "markdown",
   "id": "57f741f8",
   "metadata": {
    "papermill": {
     "duration": 0.035993,
     "end_time": "2024-03-25T20:23:06.151379",
     "exception": false,
     "start_time": "2024-03-25T20:23:06.115386",
     "status": "completed"
    },
    "tags": []
   },
   "source": [
    "5. REMOVING NUMERIC"
   ]
  },
  {
   "cell_type": "code",
   "execution_count": 20,
   "id": "7db0d26f",
   "metadata": {
    "execution": {
     "iopub.execute_input": "2024-03-25T20:23:06.204086Z",
     "iopub.status.busy": "2024-03-25T20:23:06.203692Z",
     "iopub.status.idle": "2024-03-25T20:23:06.262700Z",
     "shell.execute_reply": "2024-03-25T20:23:06.261534Z"
    },
    "papermill": {
     "duration": 0.082325,
     "end_time": "2024-03-25T20:23:06.265120",
     "exception": false,
     "start_time": "2024-03-25T20:23:06.182795",
     "status": "completed"
    },
    "tags": []
   },
   "outputs": [],
   "source": [
    "df['text'] = df['text'].str.replace(r'\\d+', '', regex=True)\n",
    "test['text'] = test['text'].str.replace(r'\\d+', '', regex=True)"
   ]
  },
  {
   "cell_type": "markdown",
   "id": "2c29234d",
   "metadata": {
    "papermill": {
     "duration": 0.018789,
     "end_time": "2024-03-25T20:23:06.303208",
     "exception": false,
     "start_time": "2024-03-25T20:23:06.284419",
     "status": "completed"
    },
    "tags": []
   },
   "source": [
    "6.  REMOVING WHITE SPACE"
   ]
  },
  {
   "cell_type": "code",
   "execution_count": 21,
   "id": "ccd6c5f4",
   "metadata": {
    "execution": {
     "iopub.execute_input": "2024-03-25T20:23:06.343124Z",
     "iopub.status.busy": "2024-03-25T20:23:06.342758Z",
     "iopub.status.idle": "2024-03-25T20:23:06.435249Z",
     "shell.execute_reply": "2024-03-25T20:23:06.434156Z"
    },
    "papermill": {
     "duration": 0.114854,
     "end_time": "2024-03-25T20:23:06.437526",
     "exception": false,
     "start_time": "2024-03-25T20:23:06.322672",
     "status": "completed"
    },
    "tags": []
   },
   "outputs": [],
   "source": [
    "df['text'] = df['text'].str.replace(r'\\s+', ' ', regex=True)\n",
    "test['text'] = test['text'].str.replace(r'\\s+', ' ', regex=True)"
   ]
  },
  {
   "cell_type": "markdown",
   "id": "c79788ee",
   "metadata": {
    "papermill": {
     "duration": 0.018511,
     "end_time": "2024-03-25T20:23:06.475026",
     "exception": false,
     "start_time": "2024-03-25T20:23:06.456515",
     "status": "completed"
    },
    "tags": []
   },
   "source": [
    "7. REMOVING SPECIAL CHARACTER"
   ]
  },
  {
   "cell_type": "code",
   "execution_count": 22,
   "id": "a3d21803",
   "metadata": {
    "execution": {
     "iopub.execute_input": "2024-03-25T20:23:06.514779Z",
     "iopub.status.busy": "2024-03-25T20:23:06.514384Z",
     "iopub.status.idle": "2024-03-25T20:23:06.594447Z",
     "shell.execute_reply": "2024-03-25T20:23:06.593382Z"
    },
    "papermill": {
     "duration": 0.102812,
     "end_time": "2024-03-25T20:23:06.596931",
     "exception": false,
     "start_time": "2024-03-25T20:23:06.494119",
     "status": "completed"
    },
    "tags": []
   },
   "outputs": [],
   "source": [
    "df['text'] = df['text'].str.replace(r'[^\\w\\s]', '', regex=True)\n",
    "test['text'] = test['text'].str.replace(r'[^\\w\\s]', '', regex=True)"
   ]
  },
  {
   "cell_type": "markdown",
   "id": "b8288cca",
   "metadata": {
    "papermill": {
     "duration": 0.018329,
     "end_time": "2024-03-25T20:23:06.634657",
     "exception": false,
     "start_time": "2024-03-25T20:23:06.616328",
     "status": "completed"
    },
    "tags": []
   },
   "source": [
    "8. REMOVING URLS"
   ]
  },
  {
   "cell_type": "code",
   "execution_count": 23,
   "id": "226358d0",
   "metadata": {
    "execution": {
     "iopub.execute_input": "2024-03-25T20:23:06.674576Z",
     "iopub.status.busy": "2024-03-25T20:23:06.673888Z",
     "iopub.status.idle": "2024-03-25T20:23:06.712665Z",
     "shell.execute_reply": "2024-03-25T20:23:06.711645Z"
    },
    "papermill": {
     "duration": 0.061095,
     "end_time": "2024-03-25T20:23:06.714898",
     "exception": false,
     "start_time": "2024-03-25T20:23:06.653803",
     "status": "completed"
    },
    "tags": []
   },
   "outputs": [],
   "source": [
    "df['text'] = df['text'].str.replace(r'https?://\\S+|www\\.\\S+', '', regex=True)\n",
    "test['text'] = test['text'].str.replace(r'https?://\\S+|www\\.\\S+', '', regex=True)"
   ]
  },
  {
   "cell_type": "markdown",
   "id": "f570646f",
   "metadata": {
    "papermill": {
     "duration": 0.019213,
     "end_time": "2024-03-25T20:23:06.753808",
     "exception": false,
     "start_time": "2024-03-25T20:23:06.734595",
     "status": "completed"
    },
    "tags": []
   },
   "source": [
    "9. APPLIED STEMMING"
   ]
  },
  {
   "cell_type": "code",
   "execution_count": 24,
   "id": "bca17aad",
   "metadata": {
    "execution": {
     "iopub.execute_input": "2024-03-25T20:23:06.794481Z",
     "iopub.status.busy": "2024-03-25T20:23:06.794116Z",
     "iopub.status.idle": "2024-03-25T20:23:12.807376Z",
     "shell.execute_reply": "2024-03-25T20:23:12.806369Z"
    },
    "papermill": {
     "duration": 6.036803,
     "end_time": "2024-03-25T20:23:12.809772",
     "exception": false,
     "start_time": "2024-03-25T20:23:06.772969",
     "status": "completed"
    },
    "tags": []
   },
   "outputs": [],
   "source": [
    "# Initialize the PorterStemmer\n",
    "stemmer = PorterStemmer()\n",
    "\n",
    "# Function to apply stemming to a text\n",
    "def apply_stemming(text):\n",
    "    words = word_tokenize(text)\n",
    "    stemmed_words = [stemmer.stem(word) for word in words]\n",
    "    return ' '.join(stemmed_words)\n",
    "\n",
    "# Apply stemming to the 'text' column\n",
    "df['text'] = df['text'].apply(apply_stemming)\n",
    "test['text'] = test['text'].apply(apply_stemming)"
   ]
  },
  {
   "cell_type": "code",
   "execution_count": 25,
   "id": "eba27a4a",
   "metadata": {
    "execution": {
     "iopub.execute_input": "2024-03-25T20:23:12.849908Z",
     "iopub.status.busy": "2024-03-25T20:23:12.849066Z",
     "iopub.status.idle": "2024-03-25T20:23:12.855429Z",
     "shell.execute_reply": "2024-03-25T20:23:12.854544Z"
    },
    "papermill": {
     "duration": 0.028255,
     "end_time": "2024-03-25T20:23:12.857420",
     "exception": false,
     "start_time": "2024-03-25T20:23:12.829165",
     "status": "completed"
    },
    "tags": []
   },
   "outputs": [
    {
     "data": {
      "text/plain": [
       "Index(['id', 'keyword', 'location', 'text', 'target'], dtype='object')"
      ]
     },
     "execution_count": 25,
     "metadata": {},
     "output_type": "execute_result"
    }
   ],
   "source": [
    "df.columns"
   ]
  },
  {
   "cell_type": "code",
   "execution_count": 26,
   "id": "8b259f36",
   "metadata": {
    "execution": {
     "iopub.execute_input": "2024-03-25T20:23:12.896720Z",
     "iopub.status.busy": "2024-03-25T20:23:12.896393Z",
     "iopub.status.idle": "2024-03-25T20:23:12.900800Z",
     "shell.execute_reply": "2024-03-25T20:23:12.899873Z"
    },
    "papermill": {
     "duration": 0.026315,
     "end_time": "2024-03-25T20:23:12.902829",
     "exception": false,
     "start_time": "2024-03-25T20:23:12.876514",
     "status": "completed"
    },
    "tags": []
   },
   "outputs": [],
   "source": [
    "X_train = df['text']"
   ]
  },
  {
   "cell_type": "code",
   "execution_count": 27,
   "id": "a03a697a",
   "metadata": {
    "execution": {
     "iopub.execute_input": "2024-03-25T20:23:12.943220Z",
     "iopub.status.busy": "2024-03-25T20:23:12.942845Z",
     "iopub.status.idle": "2024-03-25T20:23:12.947313Z",
     "shell.execute_reply": "2024-03-25T20:23:12.946504Z"
    },
    "papermill": {
     "duration": 0.027137,
     "end_time": "2024-03-25T20:23:12.949387",
     "exception": false,
     "start_time": "2024-03-25T20:23:12.922250",
     "status": "completed"
    },
    "tags": []
   },
   "outputs": [],
   "source": [
    "X_test = test['text']"
   ]
  },
  {
   "cell_type": "code",
   "execution_count": 28,
   "id": "2c565261",
   "metadata": {
    "execution": {
     "iopub.execute_input": "2024-03-25T20:23:12.990302Z",
     "iopub.status.busy": "2024-03-25T20:23:12.989778Z",
     "iopub.status.idle": "2024-03-25T20:23:12.994130Z",
     "shell.execute_reply": "2024-03-25T20:23:12.993152Z"
    },
    "papermill": {
     "duration": 0.027776,
     "end_time": "2024-03-25T20:23:12.996232",
     "exception": false,
     "start_time": "2024-03-25T20:23:12.968456",
     "status": "completed"
    },
    "tags": []
   },
   "outputs": [],
   "source": [
    "# X_train['keyword'].fillna('Missing')"
   ]
  },
  {
   "cell_type": "code",
   "execution_count": 29,
   "id": "ca39c5d1",
   "metadata": {
    "execution": {
     "iopub.execute_input": "2024-03-25T20:23:13.037169Z",
     "iopub.status.busy": "2024-03-25T20:23:13.036310Z",
     "iopub.status.idle": "2024-03-25T20:23:13.045769Z",
     "shell.execute_reply": "2024-03-25T20:23:13.044874Z"
    },
    "papermill": {
     "duration": 0.032093,
     "end_time": "2024-03-25T20:23:13.047808",
     "exception": false,
     "start_time": "2024-03-25T20:23:13.015715",
     "status": "completed"
    },
    "tags": []
   },
   "outputs": [
    {
     "data": {
      "text/plain": [
       "1008    drake bodi bag meek meanwhil he tour nicki hus...\n",
       "352     see armi whitewalk first thing slightli intrig...\n",
       "4799    kijima_matako break news unconfirm i heard lou...\n",
       "316     your phone is spi on you hidden back door nsa ...\n",
       "408     arson suspect link fire caught northern califo...\n",
       "4569    my babi girl car wreak afternoon thank god ser...\n",
       "387     mourn notic stab arson victim stir ûpolit grie...\n",
       "6550                                well dad surviv drive\n",
       "948                                   turn espn get blown\n",
       "3799                  monster truck racer catch fire fair\n",
       "Name: text, dtype: object"
      ]
     },
     "execution_count": 29,
     "metadata": {},
     "output_type": "execute_result"
    }
   ],
   "source": [
    "X_train.sample(10)"
   ]
  },
  {
   "cell_type": "code",
   "execution_count": 30,
   "id": "28280e1c",
   "metadata": {
    "execution": {
     "iopub.execute_input": "2024-03-25T20:23:13.090337Z",
     "iopub.status.busy": "2024-03-25T20:23:13.089612Z",
     "iopub.status.idle": "2024-03-25T20:23:13.093972Z",
     "shell.execute_reply": "2024-03-25T20:23:13.093040Z"
    },
    "papermill": {
     "duration": 0.028211,
     "end_time": "2024-03-25T20:23:13.096225",
     "exception": false,
     "start_time": "2024-03-25T20:23:13.068014",
     "status": "completed"
    },
    "tags": []
   },
   "outputs": [],
   "source": [
    "# X_train['keyword'].value_counts()"
   ]
  },
  {
   "cell_type": "code",
   "execution_count": 31,
   "id": "2e264ea1",
   "metadata": {
    "execution": {
     "iopub.execute_input": "2024-03-25T20:23:13.139560Z",
     "iopub.status.busy": "2024-03-25T20:23:13.138902Z",
     "iopub.status.idle": "2024-03-25T20:23:13.143866Z",
     "shell.execute_reply": "2024-03-25T20:23:13.142847Z"
    },
    "papermill": {
     "duration": 0.029266,
     "end_time": "2024-03-25T20:23:13.146197",
     "exception": false,
     "start_time": "2024-03-25T20:23:13.116931",
     "status": "completed"
    },
    "tags": []
   },
   "outputs": [],
   "source": [
    "y_train = df['target']"
   ]
  },
  {
   "cell_type": "code",
   "execution_count": 32,
   "id": "3ec6ac19",
   "metadata": {
    "execution": {
     "iopub.execute_input": "2024-03-25T20:23:13.189956Z",
     "iopub.status.busy": "2024-03-25T20:23:13.189084Z",
     "iopub.status.idle": "2024-03-25T20:23:13.196006Z",
     "shell.execute_reply": "2024-03-25T20:23:13.195007Z"
    },
    "papermill": {
     "duration": 0.03131,
     "end_time": "2024-03-25T20:23:13.198237",
     "exception": false,
     "start_time": "2024-03-25T20:23:13.166927",
     "status": "completed"
    },
    "tags": []
   },
   "outputs": [
    {
     "data": {
      "text/plain": [
       "2"
      ]
     },
     "execution_count": 32,
     "metadata": {},
     "output_type": "execute_result"
    }
   ],
   "source": [
    "y_train.nunique()"
   ]
  },
  {
   "cell_type": "code",
   "execution_count": 33,
   "id": "afae8b8a",
   "metadata": {
    "execution": {
     "iopub.execute_input": "2024-03-25T20:23:13.241328Z",
     "iopub.status.busy": "2024-03-25T20:23:13.240854Z",
     "iopub.status.idle": "2024-03-25T20:23:13.251706Z",
     "shell.execute_reply": "2024-03-25T20:23:13.250876Z"
    },
    "papermill": {
     "duration": 0.034932,
     "end_time": "2024-03-25T20:23:13.253828",
     "exception": false,
     "start_time": "2024-03-25T20:23:13.218896",
     "status": "completed"
    },
    "tags": []
   },
   "outputs": [],
   "source": [
    "x_train, x_val, y_train, y_val = train_test_split(X_train, y_train, test_size=0.2, random_state=42, stratify=y_train)"
   ]
  },
  {
   "cell_type": "code",
   "execution_count": 34,
   "id": "a9f6dc77",
   "metadata": {
    "execution": {
     "iopub.execute_input": "2024-03-25T20:23:13.295839Z",
     "iopub.status.busy": "2024-03-25T20:23:13.295508Z",
     "iopub.status.idle": "2024-03-25T20:23:13.444011Z",
     "shell.execute_reply": "2024-03-25T20:23:13.442786Z"
    },
    "papermill": {
     "duration": 0.171533,
     "end_time": "2024-03-25T20:23:13.446415",
     "exception": false,
     "start_time": "2024-03-25T20:23:13.274882",
     "status": "completed"
    },
    "tags": []
   },
   "outputs": [
    {
     "name": "stdout",
     "output_type": "stream",
     "text": [
      "['<OOV', 'i', 'the', 'like', 'a', 'fire', 'get', 'im', 'amp', 'you', 'new', 'via', 'bomb', 'it', 'in', 'one', 'go', 'peopl', 'news', 'kill']\n"
     ]
    }
   ],
   "source": [
    "OOV_TYPE = '<OOV'\n",
    "\n",
    "\n",
    "tokenizer = Tokenizer(num_words=200000, oov_token=OOV_TYPE)\n",
    "tokenizer.fit_on_texts(x_train)\n",
    "word_index = tokenizer.word_index\n",
    "print(list(word_index.keys())[:20])"
   ]
  },
  {
   "cell_type": "code",
   "execution_count": 35,
   "id": "1681b72f",
   "metadata": {
    "execution": {
     "iopub.execute_input": "2024-03-25T20:23:13.488275Z",
     "iopub.status.busy": "2024-03-25T20:23:13.487676Z",
     "iopub.status.idle": "2024-03-25T20:23:13.677724Z",
     "shell.execute_reply": "2024-03-25T20:23:13.676667Z"
    },
    "papermill": {
     "duration": 0.213708,
     "end_time": "2024-03-25T20:23:13.680429",
     "exception": false,
     "start_time": "2024-03-25T20:23:13.466721",
     "status": "completed"
    },
    "tags": []
   },
   "outputs": [],
   "source": [
    "X_train_sequences = tokenizer.texts_to_sequences(x_train)\n",
    "X_val_sequences = tokenizer.texts_to_sequences(x_val)\n",
    "X_test_sequences = tokenizer.texts_to_sequences(X_test)"
   ]
  },
  {
   "cell_type": "code",
   "execution_count": 36,
   "id": "4be01d25",
   "metadata": {
    "execution": {
     "iopub.execute_input": "2024-03-25T20:23:13.721473Z",
     "iopub.status.busy": "2024-03-25T20:23:13.720822Z",
     "iopub.status.idle": "2024-03-25T20:23:13.727361Z",
     "shell.execute_reply": "2024-03-25T20:23:13.726455Z"
    },
    "papermill": {
     "duration": 0.029491,
     "end_time": "2024-03-25T20:23:13.729687",
     "exception": false,
     "start_time": "2024-03-25T20:23:13.700196",
     "status": "completed"
    },
    "tags": []
   },
   "outputs": [
    {
     "name": "stdout",
     "output_type": "stream",
     "text": [
      "Maximum sequence length (maxlen): 28\n"
     ]
    }
   ],
   "source": [
    "# Maximum Length in X_train_sequences\n",
    "maxlen = max(len(tokens) for tokens in X_train_sequences+X_val_sequences+X_test_sequences)\n",
    "print(\"Maximum sequence length (maxlen):\", maxlen)"
   ]
  },
  {
   "cell_type": "code",
   "execution_count": 37,
   "id": "2022dd29",
   "metadata": {
    "execution": {
     "iopub.execute_input": "2024-03-25T20:23:13.772419Z",
     "iopub.status.busy": "2024-03-25T20:23:13.771512Z",
     "iopub.status.idle": "2024-03-25T20:23:13.826115Z",
     "shell.execute_reply": "2024-03-25T20:23:13.825282Z"
    },
    "papermill": {
     "duration": 0.079054,
     "end_time": "2024-03-25T20:23:13.828493",
     "exception": false,
     "start_time": "2024-03-25T20:23:13.749439",
     "status": "completed"
    },
    "tags": []
   },
   "outputs": [],
   "source": [
    "# Perform padding on X_train and X_test sequences\n",
    "X_train_padded = pad_sequences(X_train_sequences, maxlen=maxlen, padding='post')\n",
    "X_val_padded = pad_sequences(X_val_sequences, maxlen=maxlen, padding='post')\n",
    "X_test_padded = pad_sequences(X_test_sequences, maxlen=maxlen, padding='post')"
   ]
  },
  {
   "cell_type": "code",
   "execution_count": 38,
   "id": "cbbc9b0a",
   "metadata": {
    "execution": {
     "iopub.execute_input": "2024-03-25T20:23:13.871587Z",
     "iopub.status.busy": "2024-03-25T20:23:13.870950Z",
     "iopub.status.idle": "2024-03-25T20:23:13.877748Z",
     "shell.execute_reply": "2024-03-25T20:23:13.876782Z"
    },
    "papermill": {
     "duration": 0.030563,
     "end_time": "2024-03-25T20:23:13.879935",
     "exception": false,
     "start_time": "2024-03-25T20:23:13.849372",
     "status": "completed"
    },
    "tags": []
   },
   "outputs": [
    {
     "data": {
      "text/plain": [
       "array([3335,  151,  266,  590, 3336, 2172, 3337,  798,  651, 3338, 4879,\n",
       "       3339, 3340,    0,    0,    0,    0,    0,    0,    0,    0,    0,\n",
       "          0,    0,    0,    0,    0,    0], dtype=int32)"
      ]
     },
     "execution_count": 38,
     "metadata": {},
     "output_type": "execute_result"
    }
   ],
   "source": [
    "X_train_padded[0]"
   ]
  },
  {
   "cell_type": "code",
   "execution_count": 39,
   "id": "97a66117",
   "metadata": {
    "execution": {
     "iopub.execute_input": "2024-03-25T20:23:13.923859Z",
     "iopub.status.busy": "2024-03-25T20:23:13.922891Z",
     "iopub.status.idle": "2024-03-25T20:23:13.930175Z",
     "shell.execute_reply": "2024-03-25T20:23:13.929122Z"
    },
    "papermill": {
     "duration": 0.031372,
     "end_time": "2024-03-25T20:23:13.932264",
     "exception": false,
     "start_time": "2024-03-25T20:23:13.900892",
     "status": "completed"
    },
    "tags": []
   },
   "outputs": [
    {
     "data": {
      "text/plain": [
       "16121"
      ]
     },
     "execution_count": 39,
     "metadata": {},
     "output_type": "execute_result"
    }
   ],
   "source": [
    "# Embedding Input Size\n",
    "input_size = np.max(X_train_padded) + 1\n",
    "input_size"
   ]
  },
  {
   "cell_type": "markdown",
   "id": "9db034b1",
   "metadata": {
    "papermill": {
     "duration": 0.0196,
     "end_time": "2024-03-25T20:23:13.972178",
     "exception": false,
     "start_time": "2024-03-25T20:23:13.952578",
     "status": "completed"
    },
    "tags": []
   },
   "source": [
    "### Convert labels to tensors"
   ]
  },
  {
   "cell_type": "code",
   "execution_count": 40,
   "id": "4f0047f4",
   "metadata": {
    "execution": {
     "iopub.execute_input": "2024-03-25T20:23:14.015638Z",
     "iopub.status.busy": "2024-03-25T20:23:14.014950Z",
     "iopub.status.idle": "2024-03-25T20:23:14.848577Z",
     "shell.execute_reply": "2024-03-25T20:23:14.847601Z"
    },
    "papermill": {
     "duration": 0.857493,
     "end_time": "2024-03-25T20:23:14.850820",
     "exception": false,
     "start_time": "2024-03-25T20:23:13.993327",
     "status": "completed"
    },
    "tags": []
   },
   "outputs": [],
   "source": [
    "y_train_tensor = tf.convert_to_tensor(list(y_train))\n",
    "y_val_tensor = tf.convert_to_tensor(list(y_val))"
   ]
  },
  {
   "cell_type": "markdown",
   "id": "ff8fe948",
   "metadata": {
    "papermill": {
     "duration": 0.019242,
     "end_time": "2024-03-25T20:23:14.889891",
     "exception": false,
     "start_time": "2024-03-25T20:23:14.870649",
     "status": "completed"
    },
    "tags": []
   },
   "source": [
    "### Configuration 1"
   ]
  },
  {
   "cell_type": "code",
   "execution_count": 41,
   "id": "2dfdb508",
   "metadata": {
    "execution": {
     "iopub.execute_input": "2024-03-25T20:23:14.931333Z",
     "iopub.status.busy": "2024-03-25T20:23:14.930956Z",
     "iopub.status.idle": "2024-03-25T20:23:14.938287Z",
     "shell.execute_reply": "2024-03-25T20:23:14.937384Z"
    },
    "papermill": {
     "duration": 0.030573,
     "end_time": "2024-03-25T20:23:14.940491",
     "exception": false,
     "start_time": "2024-03-25T20:23:14.909918",
     "status": "completed"
    },
    "tags": []
   },
   "outputs": [
    {
     "data": {
      "text/plain": [
       "\"# Define the model\\nmodel = Sequential()\\n\\n# Add an embedding layer \\nmodel.add(Embedding(input_dim=input_size, output_dim=100, input_shape=(28,)))\\n\\n# Add a bidirectional model.add(Bidirectional(LSTM(128, return_sequences=True)))  # Set return_sequences=True\\nmodel.add(Bidirectional(LSTM(128, return_sequences=True)))  # Set return_sequences=True\\n\\n# Add batch normalization layer\\n#model.add(BatchNormalization())\\n\\n# Add dropout regularization\\nmodel.add(Dropout(0.5))\\n\\n# Add a bidirectional model.add(Bidirectional(LSTM(128, return_sequences=True)))  # Set return_sequences=True\\nmodel.add(Bidirectional(LSTM(128)))  # Set return_sequences=True\\n\\n# Add batch normalization layer\\n#model.add(BatchNormalization())\\n\\n# Add dropout regularization\\nmodel.add(Dropout(0.5))\\n\\n# Add a dense layer with 64 units and ReLU activation\\nmodel.add(Dense(64, activation='relu'))\\n\\n# Add dropout regularization\\nmodel.add(Dropout(0.2))\\n\\n# Add the output layer with 6 units for 6 labels and softmax activation\\nmodel.add(Dense(1, activation='sigmoid'))\""
      ]
     },
     "execution_count": 41,
     "metadata": {},
     "output_type": "execute_result"
    }
   ],
   "source": [
    "\"\"\"# Define the model\n",
    "model = Sequential()\n",
    "\n",
    "# Add an embedding layer \n",
    "model.add(Embedding(input_dim=input_size, output_dim=100, input_shape=(28,)))\n",
    "\n",
    "# Add a bidirectional model.add(Bidirectional(LSTM(128, return_sequences=True)))  # Set return_sequences=True\n",
    "model.add(Bidirectional(LSTM(128, return_sequences=True)))  # Set return_sequences=True\n",
    "\n",
    "# Add batch normalization layer\n",
    "#model.add(BatchNormalization())\n",
    "\n",
    "# Add dropout regularization\n",
    "model.add(Dropout(0.5))\n",
    "\n",
    "# Add a bidirectional model.add(Bidirectional(LSTM(128, return_sequences=True)))  # Set return_sequences=True\n",
    "model.add(Bidirectional(LSTM(128)))  # Set return_sequences=True\n",
    "\n",
    "# Add batch normalization layer\n",
    "#model.add(BatchNormalization())\n",
    "\n",
    "# Add dropout regularization\n",
    "model.add(Dropout(0.5))\n",
    "\n",
    "# Add a dense layer with 64 units and ReLU activation\n",
    "model.add(Dense(64, activation='relu'))\n",
    "\n",
    "# Add dropout regularization\n",
    "model.add(Dropout(0.2))\n",
    "\n",
    "# Add the output layer with 6 units for 6 labels and softmax activation\n",
    "model.add(Dense(1, activation='sigmoid'))\"\"\""
   ]
  },
  {
   "cell_type": "markdown",
   "id": "9abb74a8",
   "metadata": {
    "papermill": {
     "duration": 0.019304,
     "end_time": "2024-03-25T20:23:14.979876",
     "exception": false,
     "start_time": "2024-03-25T20:23:14.960572",
     "status": "completed"
    },
    "tags": []
   },
   "source": [
    "### Configuration 2"
   ]
  },
  {
   "cell_type": "code",
   "execution_count": 42,
   "id": "9fb81da9",
   "metadata": {
    "execution": {
     "iopub.execute_input": "2024-03-25T20:23:15.022062Z",
     "iopub.status.busy": "2024-03-25T20:23:15.021703Z",
     "iopub.status.idle": "2024-03-25T20:23:15.029054Z",
     "shell.execute_reply": "2024-03-25T20:23:15.028149Z"
    },
    "papermill": {
     "duration": 0.030791,
     "end_time": "2024-03-25T20:23:15.031341",
     "exception": false,
     "start_time": "2024-03-25T20:23:15.000550",
     "status": "completed"
    },
    "tags": []
   },
   "outputs": [
    {
     "data": {
      "text/plain": [
       "\"# Define the model  # best validation accuracy = 79.5\\nmodel = Sequential()\\n\\nmodel.add(Embedding(input_dim=input_size, output_dim=100, input_shape=(28,)))\\n\\nmodel.add(Bidirectional(LSTM(128, return_sequences=True)))  # Set return_sequences=True\\nmodel.add(Dropout(0.2))\\n\\n#model.add(Bidirectional(LSTM(64, return_sequences=True)))  # Set return_sequences=True\\n#model.add(Dropout(0.2))\\n\\nmodel.add(Bidirectional(LSTM(128, return_sequences=True)))  # Set return_sequences=True\\nmodel.add(Dropout(0.2))\\n\\n#model.add(Bidirectional(LSTM(256, return_sequences=True)))  # Set return_sequences=True\\n#model.add(Dropout(0.2))\\n\\n#model.add(Bidirectional(LSTM(256, return_sequences=True)))  # Set return_sequences=True\\n#model.add(Dropout(0.2))\\n\\n#model.add(Bidirectional(LSTM(128, return_sequences=True)))  # Set return_sequences=True\\n#model.add(Dropout(0.2))\\n\\n#model.add(Bidirectional(LSTM(128, return_sequences=True)))  # Set return_sequences=True\\n#model.add(Dropout(0.2))\\n\\nmodel.add(Bidirectional(LSTM(64, return_sequences=True)))  # Set return_sequences=True\\nmodel.add(Dropout(0.2))\\n\\nmodel.add(Bidirectional(LSTM(64)))  # Set return_sequences=True\\n#model.add(Dropout(0.2))\\n\\nmodel.add(Dense(32, activation='relu'))\\n#model.add(Dropout(0.2))\\n\\nmodel.add(Dense(1, activation='sigmoid'))\""
      ]
     },
     "execution_count": 42,
     "metadata": {},
     "output_type": "execute_result"
    }
   ],
   "source": [
    "\"\"\"# Define the model  # best validation accuracy = 79.5\n",
    "model = Sequential()\n",
    "\n",
    "model.add(Embedding(input_dim=input_size, output_dim=100, input_shape=(28,)))\n",
    "\n",
    "model.add(Bidirectional(LSTM(128, return_sequences=True)))  # Set return_sequences=True\n",
    "model.add(Dropout(0.2))\n",
    "\n",
    "#model.add(Bidirectional(LSTM(64, return_sequences=True)))  # Set return_sequences=True\n",
    "#model.add(Dropout(0.2))\n",
    "\n",
    "model.add(Bidirectional(LSTM(128, return_sequences=True)))  # Set return_sequences=True\n",
    "model.add(Dropout(0.2))\n",
    "\n",
    "#model.add(Bidirectional(LSTM(256, return_sequences=True)))  # Set return_sequences=True\n",
    "#model.add(Dropout(0.2))\n",
    "\n",
    "#model.add(Bidirectional(LSTM(256, return_sequences=True)))  # Set return_sequences=True\n",
    "#model.add(Dropout(0.2))\n",
    "\n",
    "#model.add(Bidirectional(LSTM(128, return_sequences=True)))  # Set return_sequences=True\n",
    "#model.add(Dropout(0.2))\n",
    "\n",
    "#model.add(Bidirectional(LSTM(128, return_sequences=True)))  # Set return_sequences=True\n",
    "#model.add(Dropout(0.2))\n",
    "\n",
    "model.add(Bidirectional(LSTM(64, return_sequences=True)))  # Set return_sequences=True\n",
    "model.add(Dropout(0.2))\n",
    "\n",
    "model.add(Bidirectional(LSTM(64)))  # Set return_sequences=True\n",
    "#model.add(Dropout(0.2))\n",
    "\n",
    "model.add(Dense(32, activation='relu'))\n",
    "#model.add(Dropout(0.2))\n",
    "\n",
    "model.add(Dense(1, activation='sigmoid'))\"\"\""
   ]
  },
  {
   "cell_type": "markdown",
   "id": "116360e4",
   "metadata": {
    "papermill": {
     "duration": 0.019996,
     "end_time": "2024-03-25T20:23:15.071638",
     "exception": false,
     "start_time": "2024-03-25T20:23:15.051642",
     "status": "completed"
    },
    "tags": []
   },
   "source": [
    "### Configuration 3"
   ]
  },
  {
   "cell_type": "code",
   "execution_count": 43,
   "id": "9d5535fc",
   "metadata": {
    "execution": {
     "iopub.execute_input": "2024-03-25T20:23:15.113398Z",
     "iopub.status.busy": "2024-03-25T20:23:15.112647Z",
     "iopub.status.idle": "2024-03-25T20:23:15.120024Z",
     "shell.execute_reply": "2024-03-25T20:23:15.119153Z"
    },
    "papermill": {
     "duration": 0.030585,
     "end_time": "2024-03-25T20:23:15.122306",
     "exception": false,
     "start_time": "2024-03-25T20:23:15.091721",
     "status": "completed"
    },
    "tags": []
   },
   "outputs": [
    {
     "data": {
      "text/plain": [
       "\"# Define the model   # best validation accuracy = 79.5\\nmodel = Sequential()\\n\\nmodel.add(Embedding(input_dim=input_size, output_dim=100, input_shape=(28,)))\\n\\nmodel.add(Bidirectional(GRU(128, return_sequences=True)))  # Set return_sequences=True\\nmodel.add(Dropout(0.2))\\n\\nmodel.add(Bidirectional(GRU(256, return_sequences=True)))  # Set return_sequences=True\\nmodel.add(Dropout(0.2))\\n\\nmodel.add(Bidirectional(GRU(256, return_sequences=True)))  # Set return_sequences=True\\nmodel.add(Dropout(0.2))\\n\\nmodel.add(Bidirectional(GRU(256, return_sequences=True)))  # Set return_sequences=True\\nmodel.add(Dropout(0.2))\\n\\nmodel.add(Bidirectional(GRU(256, return_sequences=True)))  # Set return_sequences=True\\nmodel.add(Dropout(0.2))\\n\\nmodel.add(Bidirectional(GRU(128, return_sequences=True)))  # Set return_sequences=True\\nmodel.add(Dropout(0.2))\\n\\nmodel.add(Bidirectional(GRU(64, return_sequences=True)))  # Set return_sequences=True\\nmodel.add(Dropout(0.2))\\n\\nmodel.add(Bidirectional(GRU(64)))  # Set return_sequences=True\\n#model.add(Dropout(0.2))\\n\\nmodel.add(Dense(16, activation='relu'))\\n#model.add(Dropout(0.2))\\n\\nmodel.add(Dense(1, activation='sigmoid'))\""
      ]
     },
     "execution_count": 43,
     "metadata": {},
     "output_type": "execute_result"
    }
   ],
   "source": [
    "\"\"\"# Define the model   # best validation accuracy = 79.5\n",
    "model = Sequential()\n",
    "\n",
    "model.add(Embedding(input_dim=input_size, output_dim=100, input_shape=(28,)))\n",
    "\n",
    "model.add(Bidirectional(GRU(128, return_sequences=True)))  # Set return_sequences=True\n",
    "model.add(Dropout(0.2))\n",
    "\n",
    "model.add(Bidirectional(GRU(256, return_sequences=True)))  # Set return_sequences=True\n",
    "model.add(Dropout(0.2))\n",
    "\n",
    "model.add(Bidirectional(GRU(256, return_sequences=True)))  # Set return_sequences=True\n",
    "model.add(Dropout(0.2))\n",
    "\n",
    "model.add(Bidirectional(GRU(256, return_sequences=True)))  # Set return_sequences=True\n",
    "model.add(Dropout(0.2))\n",
    "\n",
    "model.add(Bidirectional(GRU(256, return_sequences=True)))  # Set return_sequences=True\n",
    "model.add(Dropout(0.2))\n",
    "\n",
    "model.add(Bidirectional(GRU(128, return_sequences=True)))  # Set return_sequences=True\n",
    "model.add(Dropout(0.2))\n",
    "\n",
    "model.add(Bidirectional(GRU(64, return_sequences=True)))  # Set return_sequences=True\n",
    "model.add(Dropout(0.2))\n",
    "\n",
    "model.add(Bidirectional(GRU(64)))  # Set return_sequences=True\n",
    "#model.add(Dropout(0.2))\n",
    "\n",
    "model.add(Dense(16, activation='relu'))\n",
    "#model.add(Dropout(0.2))\n",
    "\n",
    "model.add(Dense(1, activation='sigmoid'))\"\"\""
   ]
  },
  {
   "cell_type": "markdown",
   "id": "ebc16582",
   "metadata": {
    "papermill": {
     "duration": 0.020126,
     "end_time": "2024-03-25T20:23:15.162960",
     "exception": false,
     "start_time": "2024-03-25T20:23:15.142834",
     "status": "completed"
    },
    "tags": []
   },
   "source": [
    "### Configuration 4"
   ]
  },
  {
   "cell_type": "code",
   "execution_count": 44,
   "id": "c598fd24",
   "metadata": {
    "execution": {
     "iopub.execute_input": "2024-03-25T20:23:15.205420Z",
     "iopub.status.busy": "2024-03-25T20:23:15.204786Z",
     "iopub.status.idle": "2024-03-25T20:23:16.081303Z",
     "shell.execute_reply": "2024-03-25T20:23:16.080528Z"
    },
    "papermill": {
     "duration": 0.900302,
     "end_time": "2024-03-25T20:23:16.083615",
     "exception": false,
     "start_time": "2024-03-25T20:23:15.183313",
     "status": "completed"
    },
    "tags": []
   },
   "outputs": [],
   "source": [
    "DROPOUT_RATE= 0.2\n",
    "\n",
    "# Define the model  # best validation accuracy = 79.25\n",
    "model = Sequential()\n",
    "\n",
    "model.add(Embedding(input_dim=input_size, output_dim=100, input_shape=(28,)))\n",
    "\n",
    "model.add(Bidirectional(LSTM(128, return_sequences=True)))  # Set return_sequences=True\n",
    "model.add(Dropout(DROPOUT_RATE))\n",
    "\n",
    "model.add(Bidirectional(GRU(128, return_sequences=True)))  # Set return_sequences=True\n",
    "model.add(Dropout(DROPOUT_RATE))\n",
    "\n",
    "model.add(Bidirectional(LSTM(128, return_sequences=True)))  # Set return_sequences=True\n",
    "model.add(Dropout(DROPOUT_RATE))\n",
    "\n",
    "model.add(Bidirectional(GRU(128, return_sequences=True)))  # Set return_sequences=True\n",
    "model.add(Dropout(DROPOUT_RATE))\n",
    "\n",
    "#model.add(Bidirectional(LSTM(128, return_sequences=True)))  # Set return_sequences=True\n",
    "#model.add(Dropout(DROPOUT_RATE))\n",
    "\n",
    "model.add(Bidirectional(LSTM(64, return_sequences=True)))  # Set return_sequences=True\n",
    "model.add(Dropout(DROPOUT_RATE))\n",
    "\n",
    "model.add(Bidirectional(LSTM(64)))  # Set return_sequences=True\n",
    "#model.add(Dropout(DROPOUT_RATE))\n",
    "\n",
    "model.add(Dense(32, activation='relu'))\n",
    "#model.add(Dropout(DROPOUT_RATE))\n",
    "\n",
    "model.add(Dense(1, activation='sigmoid'))"
   ]
  },
  {
   "cell_type": "code",
   "execution_count": 45,
   "id": "cae071d3",
   "metadata": {
    "execution": {
     "iopub.execute_input": "2024-03-25T20:23:16.127189Z",
     "iopub.status.busy": "2024-03-25T20:23:16.126343Z",
     "iopub.status.idle": "2024-03-25T20:23:16.175814Z",
     "shell.execute_reply": "2024-03-25T20:23:16.174910Z"
    },
    "papermill": {
     "duration": 0.073456,
     "end_time": "2024-03-25T20:23:16.177849",
     "exception": false,
     "start_time": "2024-03-25T20:23:16.104393",
     "status": "completed"
    },
    "tags": []
   },
   "outputs": [
    {
     "data": {
      "text/html": [
       "<pre style=\"white-space:pre;overflow-x:auto;line-height:normal;font-family:Menlo,'DejaVu Sans Mono',consolas,'Courier New',monospace\"><span style=\"font-weight: bold\">Model: \"sequential\"</span>\n",
       "</pre>\n"
      ],
      "text/plain": [
       "\u001b[1mModel: \"sequential\"\u001b[0m\n"
      ]
     },
     "metadata": {},
     "output_type": "display_data"
    },
    {
     "data": {
      "text/html": [
       "<pre style=\"white-space:pre;overflow-x:auto;line-height:normal;font-family:Menlo,'DejaVu Sans Mono',consolas,'Courier New',monospace\">┏━━━━━━━━━━━━━━━━━━━━━━━━━━━━━━━━━┳━━━━━━━━━━━━━━━━━━━━━━━━┳━━━━━━━━━━━━━━━┓\n",
       "┃<span style=\"font-weight: bold\"> Layer (type)                    </span>┃<span style=\"font-weight: bold\"> Output Shape           </span>┃<span style=\"font-weight: bold\">       Param # </span>┃\n",
       "┡━━━━━━━━━━━━━━━━━━━━━━━━━━━━━━━━━╇━━━━━━━━━━━━━━━━━━━━━━━━╇━━━━━━━━━━━━━━━┩\n",
       "│ embedding (<span style=\"color: #0087ff; text-decoration-color: #0087ff\">Embedding</span>)           │ (<span style=\"color: #00d7ff; text-decoration-color: #00d7ff\">None</span>, <span style=\"color: #00af00; text-decoration-color: #00af00\">28</span>, <span style=\"color: #00af00; text-decoration-color: #00af00\">100</span>)        │     <span style=\"color: #00af00; text-decoration-color: #00af00\">1,612,100</span> │\n",
       "├─────────────────────────────────┼────────────────────────┼───────────────┤\n",
       "│ bidirectional (<span style=\"color: #0087ff; text-decoration-color: #0087ff\">Bidirectional</span>)   │ (<span style=\"color: #00d7ff; text-decoration-color: #00d7ff\">None</span>, <span style=\"color: #00af00; text-decoration-color: #00af00\">28</span>, <span style=\"color: #00af00; text-decoration-color: #00af00\">256</span>)        │       <span style=\"color: #00af00; text-decoration-color: #00af00\">234,496</span> │\n",
       "├─────────────────────────────────┼────────────────────────┼───────────────┤\n",
       "│ dropout (<span style=\"color: #0087ff; text-decoration-color: #0087ff\">Dropout</span>)               │ (<span style=\"color: #00d7ff; text-decoration-color: #00d7ff\">None</span>, <span style=\"color: #00af00; text-decoration-color: #00af00\">28</span>, <span style=\"color: #00af00; text-decoration-color: #00af00\">256</span>)        │             <span style=\"color: #00af00; text-decoration-color: #00af00\">0</span> │\n",
       "├─────────────────────────────────┼────────────────────────┼───────────────┤\n",
       "│ bidirectional_1 (<span style=\"color: #0087ff; text-decoration-color: #0087ff\">Bidirectional</span>) │ (<span style=\"color: #00d7ff; text-decoration-color: #00d7ff\">None</span>, <span style=\"color: #00af00; text-decoration-color: #00af00\">28</span>, <span style=\"color: #00af00; text-decoration-color: #00af00\">256</span>)        │       <span style=\"color: #00af00; text-decoration-color: #00af00\">296,448</span> │\n",
       "├─────────────────────────────────┼────────────────────────┼───────────────┤\n",
       "│ dropout_1 (<span style=\"color: #0087ff; text-decoration-color: #0087ff\">Dropout</span>)             │ (<span style=\"color: #00d7ff; text-decoration-color: #00d7ff\">None</span>, <span style=\"color: #00af00; text-decoration-color: #00af00\">28</span>, <span style=\"color: #00af00; text-decoration-color: #00af00\">256</span>)        │             <span style=\"color: #00af00; text-decoration-color: #00af00\">0</span> │\n",
       "├─────────────────────────────────┼────────────────────────┼───────────────┤\n",
       "│ bidirectional_2 (<span style=\"color: #0087ff; text-decoration-color: #0087ff\">Bidirectional</span>) │ (<span style=\"color: #00d7ff; text-decoration-color: #00d7ff\">None</span>, <span style=\"color: #00af00; text-decoration-color: #00af00\">28</span>, <span style=\"color: #00af00; text-decoration-color: #00af00\">256</span>)        │       <span style=\"color: #00af00; text-decoration-color: #00af00\">394,240</span> │\n",
       "├─────────────────────────────────┼────────────────────────┼───────────────┤\n",
       "│ dropout_2 (<span style=\"color: #0087ff; text-decoration-color: #0087ff\">Dropout</span>)             │ (<span style=\"color: #00d7ff; text-decoration-color: #00d7ff\">None</span>, <span style=\"color: #00af00; text-decoration-color: #00af00\">28</span>, <span style=\"color: #00af00; text-decoration-color: #00af00\">256</span>)        │             <span style=\"color: #00af00; text-decoration-color: #00af00\">0</span> │\n",
       "├─────────────────────────────────┼────────────────────────┼───────────────┤\n",
       "│ bidirectional_3 (<span style=\"color: #0087ff; text-decoration-color: #0087ff\">Bidirectional</span>) │ (<span style=\"color: #00d7ff; text-decoration-color: #00d7ff\">None</span>, <span style=\"color: #00af00; text-decoration-color: #00af00\">28</span>, <span style=\"color: #00af00; text-decoration-color: #00af00\">256</span>)        │       <span style=\"color: #00af00; text-decoration-color: #00af00\">296,448</span> │\n",
       "├─────────────────────────────────┼────────────────────────┼───────────────┤\n",
       "│ dropout_3 (<span style=\"color: #0087ff; text-decoration-color: #0087ff\">Dropout</span>)             │ (<span style=\"color: #00d7ff; text-decoration-color: #00d7ff\">None</span>, <span style=\"color: #00af00; text-decoration-color: #00af00\">28</span>, <span style=\"color: #00af00; text-decoration-color: #00af00\">256</span>)        │             <span style=\"color: #00af00; text-decoration-color: #00af00\">0</span> │\n",
       "├─────────────────────────────────┼────────────────────────┼───────────────┤\n",
       "│ bidirectional_4 (<span style=\"color: #0087ff; text-decoration-color: #0087ff\">Bidirectional</span>) │ (<span style=\"color: #00d7ff; text-decoration-color: #00d7ff\">None</span>, <span style=\"color: #00af00; text-decoration-color: #00af00\">28</span>, <span style=\"color: #00af00; text-decoration-color: #00af00\">128</span>)        │       <span style=\"color: #00af00; text-decoration-color: #00af00\">164,352</span> │\n",
       "├─────────────────────────────────┼────────────────────────┼───────────────┤\n",
       "│ dropout_4 (<span style=\"color: #0087ff; text-decoration-color: #0087ff\">Dropout</span>)             │ (<span style=\"color: #00d7ff; text-decoration-color: #00d7ff\">None</span>, <span style=\"color: #00af00; text-decoration-color: #00af00\">28</span>, <span style=\"color: #00af00; text-decoration-color: #00af00\">128</span>)        │             <span style=\"color: #00af00; text-decoration-color: #00af00\">0</span> │\n",
       "├─────────────────────────────────┼────────────────────────┼───────────────┤\n",
       "│ bidirectional_5 (<span style=\"color: #0087ff; text-decoration-color: #0087ff\">Bidirectional</span>) │ (<span style=\"color: #00d7ff; text-decoration-color: #00d7ff\">None</span>, <span style=\"color: #00af00; text-decoration-color: #00af00\">128</span>)            │        <span style=\"color: #00af00; text-decoration-color: #00af00\">98,816</span> │\n",
       "├─────────────────────────────────┼────────────────────────┼───────────────┤\n",
       "│ dense (<span style=\"color: #0087ff; text-decoration-color: #0087ff\">Dense</span>)                   │ (<span style=\"color: #00d7ff; text-decoration-color: #00d7ff\">None</span>, <span style=\"color: #00af00; text-decoration-color: #00af00\">32</span>)             │         <span style=\"color: #00af00; text-decoration-color: #00af00\">4,128</span> │\n",
       "├─────────────────────────────────┼────────────────────────┼───────────────┤\n",
       "│ dense_1 (<span style=\"color: #0087ff; text-decoration-color: #0087ff\">Dense</span>)                 │ (<span style=\"color: #00d7ff; text-decoration-color: #00d7ff\">None</span>, <span style=\"color: #00af00; text-decoration-color: #00af00\">1</span>)              │            <span style=\"color: #00af00; text-decoration-color: #00af00\">33</span> │\n",
       "└─────────────────────────────────┴────────────────────────┴───────────────┘\n",
       "</pre>\n"
      ],
      "text/plain": [
       "┏━━━━━━━━━━━━━━━━━━━━━━━━━━━━━━━━━┳━━━━━━━━━━━━━━━━━━━━━━━━┳━━━━━━━━━━━━━━━┓\n",
       "┃\u001b[1m \u001b[0m\u001b[1mLayer (type)                   \u001b[0m\u001b[1m \u001b[0m┃\u001b[1m \u001b[0m\u001b[1mOutput Shape          \u001b[0m\u001b[1m \u001b[0m┃\u001b[1m \u001b[0m\u001b[1m      Param #\u001b[0m\u001b[1m \u001b[0m┃\n",
       "┡━━━━━━━━━━━━━━━━━━━━━━━━━━━━━━━━━╇━━━━━━━━━━━━━━━━━━━━━━━━╇━━━━━━━━━━━━━━━┩\n",
       "│ embedding (\u001b[38;5;33mEmbedding\u001b[0m)           │ (\u001b[38;5;45mNone\u001b[0m, \u001b[38;5;34m28\u001b[0m, \u001b[38;5;34m100\u001b[0m)        │     \u001b[38;5;34m1,612,100\u001b[0m │\n",
       "├─────────────────────────────────┼────────────────────────┼───────────────┤\n",
       "│ bidirectional (\u001b[38;5;33mBidirectional\u001b[0m)   │ (\u001b[38;5;45mNone\u001b[0m, \u001b[38;5;34m28\u001b[0m, \u001b[38;5;34m256\u001b[0m)        │       \u001b[38;5;34m234,496\u001b[0m │\n",
       "├─────────────────────────────────┼────────────────────────┼───────────────┤\n",
       "│ dropout (\u001b[38;5;33mDropout\u001b[0m)               │ (\u001b[38;5;45mNone\u001b[0m, \u001b[38;5;34m28\u001b[0m, \u001b[38;5;34m256\u001b[0m)        │             \u001b[38;5;34m0\u001b[0m │\n",
       "├─────────────────────────────────┼────────────────────────┼───────────────┤\n",
       "│ bidirectional_1 (\u001b[38;5;33mBidirectional\u001b[0m) │ (\u001b[38;5;45mNone\u001b[0m, \u001b[38;5;34m28\u001b[0m, \u001b[38;5;34m256\u001b[0m)        │       \u001b[38;5;34m296,448\u001b[0m │\n",
       "├─────────────────────────────────┼────────────────────────┼───────────────┤\n",
       "│ dropout_1 (\u001b[38;5;33mDropout\u001b[0m)             │ (\u001b[38;5;45mNone\u001b[0m, \u001b[38;5;34m28\u001b[0m, \u001b[38;5;34m256\u001b[0m)        │             \u001b[38;5;34m0\u001b[0m │\n",
       "├─────────────────────────────────┼────────────────────────┼───────────────┤\n",
       "│ bidirectional_2 (\u001b[38;5;33mBidirectional\u001b[0m) │ (\u001b[38;5;45mNone\u001b[0m, \u001b[38;5;34m28\u001b[0m, \u001b[38;5;34m256\u001b[0m)        │       \u001b[38;5;34m394,240\u001b[0m │\n",
       "├─────────────────────────────────┼────────────────────────┼───────────────┤\n",
       "│ dropout_2 (\u001b[38;5;33mDropout\u001b[0m)             │ (\u001b[38;5;45mNone\u001b[0m, \u001b[38;5;34m28\u001b[0m, \u001b[38;5;34m256\u001b[0m)        │             \u001b[38;5;34m0\u001b[0m │\n",
       "├─────────────────────────────────┼────────────────────────┼───────────────┤\n",
       "│ bidirectional_3 (\u001b[38;5;33mBidirectional\u001b[0m) │ (\u001b[38;5;45mNone\u001b[0m, \u001b[38;5;34m28\u001b[0m, \u001b[38;5;34m256\u001b[0m)        │       \u001b[38;5;34m296,448\u001b[0m │\n",
       "├─────────────────────────────────┼────────────────────────┼───────────────┤\n",
       "│ dropout_3 (\u001b[38;5;33mDropout\u001b[0m)             │ (\u001b[38;5;45mNone\u001b[0m, \u001b[38;5;34m28\u001b[0m, \u001b[38;5;34m256\u001b[0m)        │             \u001b[38;5;34m0\u001b[0m │\n",
       "├─────────────────────────────────┼────────────────────────┼───────────────┤\n",
       "│ bidirectional_4 (\u001b[38;5;33mBidirectional\u001b[0m) │ (\u001b[38;5;45mNone\u001b[0m, \u001b[38;5;34m28\u001b[0m, \u001b[38;5;34m128\u001b[0m)        │       \u001b[38;5;34m164,352\u001b[0m │\n",
       "├─────────────────────────────────┼────────────────────────┼───────────────┤\n",
       "│ dropout_4 (\u001b[38;5;33mDropout\u001b[0m)             │ (\u001b[38;5;45mNone\u001b[0m, \u001b[38;5;34m28\u001b[0m, \u001b[38;5;34m128\u001b[0m)        │             \u001b[38;5;34m0\u001b[0m │\n",
       "├─────────────────────────────────┼────────────────────────┼───────────────┤\n",
       "│ bidirectional_5 (\u001b[38;5;33mBidirectional\u001b[0m) │ (\u001b[38;5;45mNone\u001b[0m, \u001b[38;5;34m128\u001b[0m)            │        \u001b[38;5;34m98,816\u001b[0m │\n",
       "├─────────────────────────────────┼────────────────────────┼───────────────┤\n",
       "│ dense (\u001b[38;5;33mDense\u001b[0m)                   │ (\u001b[38;5;45mNone\u001b[0m, \u001b[38;5;34m32\u001b[0m)             │         \u001b[38;5;34m4,128\u001b[0m │\n",
       "├─────────────────────────────────┼────────────────────────┼───────────────┤\n",
       "│ dense_1 (\u001b[38;5;33mDense\u001b[0m)                 │ (\u001b[38;5;45mNone\u001b[0m, \u001b[38;5;34m1\u001b[0m)              │            \u001b[38;5;34m33\u001b[0m │\n",
       "└─────────────────────────────────┴────────────────────────┴───────────────┘\n"
      ]
     },
     "metadata": {},
     "output_type": "display_data"
    },
    {
     "data": {
      "text/html": [
       "<pre style=\"white-space:pre;overflow-x:auto;line-height:normal;font-family:Menlo,'DejaVu Sans Mono',consolas,'Courier New',monospace\"><span style=\"font-weight: bold\"> Total params: </span><span style=\"color: #00af00; text-decoration-color: #00af00\">3,101,061</span> (11.83 MB)\n",
       "</pre>\n"
      ],
      "text/plain": [
       "\u001b[1m Total params: \u001b[0m\u001b[38;5;34m3,101,061\u001b[0m (11.83 MB)\n"
      ]
     },
     "metadata": {},
     "output_type": "display_data"
    },
    {
     "data": {
      "text/html": [
       "<pre style=\"white-space:pre;overflow-x:auto;line-height:normal;font-family:Menlo,'DejaVu Sans Mono',consolas,'Courier New',monospace\"><span style=\"font-weight: bold\"> Trainable params: </span><span style=\"color: #00af00; text-decoration-color: #00af00\">3,101,061</span> (11.83 MB)\n",
       "</pre>\n"
      ],
      "text/plain": [
       "\u001b[1m Trainable params: \u001b[0m\u001b[38;5;34m3,101,061\u001b[0m (11.83 MB)\n"
      ]
     },
     "metadata": {},
     "output_type": "display_data"
    },
    {
     "data": {
      "text/html": [
       "<pre style=\"white-space:pre;overflow-x:auto;line-height:normal;font-family:Menlo,'DejaVu Sans Mono',consolas,'Courier New',monospace\"><span style=\"font-weight: bold\"> Non-trainable params: </span><span style=\"color: #00af00; text-decoration-color: #00af00\">0</span> (0.00 B)\n",
       "</pre>\n"
      ],
      "text/plain": [
       "\u001b[1m Non-trainable params: \u001b[0m\u001b[38;5;34m0\u001b[0m (0.00 B)\n"
      ]
     },
     "metadata": {},
     "output_type": "display_data"
    }
   ],
   "source": [
    "# Compile the model\n",
    "model.compile(loss='binary_crossentropy',\n",
    "              optimizer=tf.keras.optimizers.RMSprop(learning_rate=0.00001),   ## best validation accuracy = {Adam: 79.25, RMSprop: 80.43, AdamW: 79.84, Nadam: 79.71}\n",
    "              metrics=['accuracy', tf.keras.metrics.Precision(), tf.keras.metrics.Recall()])\n",
    "\n",
    "# Display the model summary\n",
    "model.summary()"
   ]
  },
  {
   "cell_type": "code",
   "execution_count": 46,
   "id": "8062b9c7",
   "metadata": {
    "execution": {
     "iopub.execute_input": "2024-03-25T20:23:16.222519Z",
     "iopub.status.busy": "2024-03-25T20:23:16.222153Z",
     "iopub.status.idle": "2024-03-25T20:29:33.586930Z",
     "shell.execute_reply": "2024-03-25T20:29:33.585942Z"
    },
    "papermill": {
     "duration": 377.389772,
     "end_time": "2024-03-25T20:29:33.589341",
     "exception": false,
     "start_time": "2024-03-25T20:23:16.199569",
     "status": "completed"
    },
    "tags": []
   },
   "outputs": [
    {
     "name": "stdout",
     "output_type": "stream",
     "text": [
      "Epoch 1/100\n",
      "\u001b[1m191/191\u001b[0m \u001b[32m━━━━━━━━━━━━━━━━━━━━\u001b[0m\u001b[37m\u001b[0m \u001b[1m17s\u001b[0m 31ms/step - accuracy: 0.5567 - loss: 0.6916 - precision: 0.4151 - recall: 0.0523 - val_accuracy: 0.5706 - val_loss: 0.6870 - val_precision: 0.0000e+00 - val_recall: 0.0000e+00\n",
      "Epoch 2/100\n",
      "\u001b[1m191/191\u001b[0m \u001b[32m━━━━━━━━━━━━━━━━━━━━\u001b[0m\u001b[37m\u001b[0m \u001b[1m5s\u001b[0m 24ms/step - accuracy: 0.5736 - loss: 0.6858 - precision: 0.0000e+00 - recall: 0.0000e+00 - val_accuracy: 0.5706 - val_loss: 0.6833 - val_precision: 0.0000e+00 - val_recall: 0.0000e+00\n",
      "Epoch 3/100\n",
      "\u001b[1m191/191\u001b[0m \u001b[32m━━━━━━━━━━━━━━━━━━━━\u001b[0m\u001b[37m\u001b[0m \u001b[1m5s\u001b[0m 24ms/step - accuracy: 0.5687 - loss: 0.6832 - precision: 0.0000e+00 - recall: 0.0000e+00 - val_accuracy: 0.5706 - val_loss: 0.6820 - val_precision: 0.0000e+00 - val_recall: 0.0000e+00\n",
      "Epoch 4/100\n",
      "\u001b[1m191/191\u001b[0m \u001b[32m━━━━━━━━━━━━━━━━━━━━\u001b[0m\u001b[37m\u001b[0m \u001b[1m5s\u001b[0m 24ms/step - accuracy: 0.5752 - loss: 0.6807 - precision: 0.0000e+00 - recall: 0.0000e+00 - val_accuracy: 0.5706 - val_loss: 0.6816 - val_precision: 0.0000e+00 - val_recall: 0.0000e+00\n",
      "Epoch 5/100\n",
      "\u001b[1m191/191\u001b[0m \u001b[32m━━━━━━━━━━━━━━━━━━━━\u001b[0m\u001b[37m\u001b[0m \u001b[1m5s\u001b[0m 25ms/step - accuracy: 0.5613 - loss: 0.6842 - precision: 0.0000e+00 - recall: 0.0000e+00 - val_accuracy: 0.5706 - val_loss: 0.6814 - val_precision: 0.0000e+00 - val_recall: 0.0000e+00\n",
      "Epoch 6/100\n",
      "\u001b[1m191/191\u001b[0m \u001b[32m━━━━━━━━━━━━━━━━━━━━\u001b[0m\u001b[37m\u001b[0m \u001b[1m5s\u001b[0m 24ms/step - accuracy: 0.5660 - loss: 0.6830 - precision: 0.0000e+00 - recall: 0.0000e+00 - val_accuracy: 0.5706 - val_loss: 0.6811 - val_precision: 0.0000e+00 - val_recall: 0.0000e+00\n",
      "Epoch 7/100\n",
      "\u001b[1m191/191\u001b[0m \u001b[32m━━━━━━━━━━━━━━━━━━━━\u001b[0m\u001b[37m\u001b[0m \u001b[1m5s\u001b[0m 24ms/step - accuracy: 0.5653 - loss: 0.6824 - precision: 0.0000e+00 - recall: 0.0000e+00 - val_accuracy: 0.5706 - val_loss: 0.6808 - val_precision: 0.0000e+00 - val_recall: 0.0000e+00\n",
      "Epoch 8/100\n",
      "\u001b[1m191/191\u001b[0m \u001b[32m━━━━━━━━━━━━━━━━━━━━\u001b[0m\u001b[37m\u001b[0m \u001b[1m5s\u001b[0m 24ms/step - accuracy: 0.5637 - loss: 0.6825 - precision: 0.0000e+00 - recall: 0.0000e+00 - val_accuracy: 0.5706 - val_loss: 0.6805 - val_precision: 0.0000e+00 - val_recall: 0.0000e+00\n",
      "Epoch 9/100\n",
      "\u001b[1m191/191\u001b[0m \u001b[32m━━━━━━━━━━━━━━━━━━━━\u001b[0m\u001b[37m\u001b[0m \u001b[1m5s\u001b[0m 24ms/step - accuracy: 0.5681 - loss: 0.6814 - precision: 0.0000e+00 - recall: 0.0000e+00 - val_accuracy: 0.5706 - val_loss: 0.6800 - val_precision: 0.0000e+00 - val_recall: 0.0000e+00\n",
      "Epoch 10/100\n",
      "\u001b[1m191/191\u001b[0m \u001b[32m━━━━━━━━━━━━━━━━━━━━\u001b[0m\u001b[37m\u001b[0m \u001b[1m5s\u001b[0m 24ms/step - accuracy: 0.5698 - loss: 0.6803 - precision: 0.0000e+00 - recall: 0.0000e+00 - val_accuracy: 0.5706 - val_loss: 0.6795 - val_precision: 0.0000e+00 - val_recall: 0.0000e+00\n",
      "Epoch 11/100\n",
      "\u001b[1m191/191\u001b[0m \u001b[32m━━━━━━━━━━━━━━━━━━━━\u001b[0m\u001b[37m\u001b[0m \u001b[1m5s\u001b[0m 24ms/step - accuracy: 0.5695 - loss: 0.6788 - precision: 0.0000e+00 - recall: 0.0000e+00 - val_accuracy: 0.5706 - val_loss: 0.6788 - val_precision: 0.0000e+00 - val_recall: 0.0000e+00\n",
      "Epoch 12/100\n",
      "\u001b[1m191/191\u001b[0m \u001b[32m━━━━━━━━━━━━━━━━━━━━\u001b[0m\u001b[37m\u001b[0m \u001b[1m5s\u001b[0m 25ms/step - accuracy: 0.5687 - loss: 0.6780 - precision: 0.0000e+00 - recall: 0.0000e+00 - val_accuracy: 0.5706 - val_loss: 0.6780 - val_precision: 0.0000e+00 - val_recall: 0.0000e+00\n",
      "Epoch 13/100\n",
      "\u001b[1m191/191\u001b[0m \u001b[32m━━━━━━━━━━━━━━━━━━━━\u001b[0m\u001b[37m\u001b[0m \u001b[1m5s\u001b[0m 24ms/step - accuracy: 0.5740 - loss: 0.6763 - precision: 0.0000e+00 - recall: 0.0000e+00 - val_accuracy: 0.5706 - val_loss: 0.6771 - val_precision: 0.0000e+00 - val_recall: 0.0000e+00\n",
      "Epoch 14/100\n",
      "\u001b[1m191/191\u001b[0m \u001b[32m━━━━━━━━━━━━━━━━━━━━\u001b[0m\u001b[37m\u001b[0m \u001b[1m5s\u001b[0m 24ms/step - accuracy: 0.5759 - loss: 0.6738 - precision: 0.0000e+00 - recall: 0.0000e+00 - val_accuracy: 0.5706 - val_loss: 0.6759 - val_precision: 0.0000e+00 - val_recall: 0.0000e+00\n",
      "Epoch 15/100\n",
      "\u001b[1m191/191\u001b[0m \u001b[32m━━━━━━━━━━━━━━━━━━━━\u001b[0m\u001b[37m\u001b[0m \u001b[1m5s\u001b[0m 24ms/step - accuracy: 0.5758 - loss: 0.6719 - precision: 0.0000e+00 - recall: 0.0000e+00 - val_accuracy: 0.5706 - val_loss: 0.6743 - val_precision: 0.0000e+00 - val_recall: 0.0000e+00\n",
      "Epoch 16/100\n",
      "\u001b[1m191/191\u001b[0m \u001b[32m━━━━━━━━━━━━━━━━━━━━\u001b[0m\u001b[37m\u001b[0m \u001b[1m5s\u001b[0m 24ms/step - accuracy: 0.5730 - loss: 0.6702 - precision: 0.1571 - recall: 9.5484e-04 - val_accuracy: 0.5706 - val_loss: 0.6723 - val_precision: 0.5000 - val_recall: 0.0031\n",
      "Epoch 17/100\n",
      "\u001b[1m191/191\u001b[0m \u001b[32m━━━━━━━━━━━━━━━━━━━━\u001b[0m\u001b[37m\u001b[0m \u001b[1m5s\u001b[0m 24ms/step - accuracy: 0.5663 - loss: 0.6706 - precision: 0.4863 - recall: 0.0105 - val_accuracy: 0.5706 - val_loss: 0.6694 - val_precision: 0.5000 - val_recall: 0.0260\n",
      "Epoch 18/100\n",
      "\u001b[1m191/191\u001b[0m \u001b[32m━━━━━━━━━━━━━━━━━━━━\u001b[0m\u001b[37m\u001b[0m \u001b[1m5s\u001b[0m 24ms/step - accuracy: 0.5834 - loss: 0.6687 - precision: 0.6821 - recall: 0.0776 - val_accuracy: 0.5798 - val_loss: 0.6664 - val_precision: 0.6129 - val_recall: 0.0581\n",
      "Epoch 19/100\n",
      "\u001b[1m191/191\u001b[0m \u001b[32m━━━━━━━━━━━━━━━━━━━━\u001b[0m\u001b[37m\u001b[0m \u001b[1m5s\u001b[0m 25ms/step - accuracy: 0.5957 - loss: 0.6612 - precision: 0.6665 - recall: 0.1428 - val_accuracy: 0.6054 - val_loss: 0.6619 - val_precision: 0.7054 - val_recall: 0.1391\n",
      "Epoch 20/100\n",
      "\u001b[1m191/191\u001b[0m \u001b[32m━━━━━━━━━━━━━━━━━━━━\u001b[0m\u001b[37m\u001b[0m \u001b[1m5s\u001b[0m 24ms/step - accuracy: 0.6213 - loss: 0.6537 - precision: 0.6723 - recall: 0.2263 - val_accuracy: 0.6211 - val_loss: 0.6552 - val_precision: 0.7151 - val_recall: 0.1957\n",
      "Epoch 21/100\n",
      "\u001b[1m191/191\u001b[0m \u001b[32m━━━━━━━━━━━━━━━━━━━━\u001b[0m\u001b[37m\u001b[0m \u001b[1m5s\u001b[0m 24ms/step - accuracy: 0.6404 - loss: 0.6461 - precision: 0.6773 - recall: 0.3206 - val_accuracy: 0.6481 - val_loss: 0.6460 - val_precision: 0.7543 - val_recall: 0.2676\n",
      "Epoch 22/100\n",
      "\u001b[1m191/191\u001b[0m \u001b[32m━━━━━━━━━━━━━━━━━━━━\u001b[0m\u001b[37m\u001b[0m \u001b[1m5s\u001b[0m 24ms/step - accuracy: 0.6555 - loss: 0.6385 - precision: 0.6827 - recall: 0.4005 - val_accuracy: 0.6697 - val_loss: 0.6300 - val_precision: 0.7542 - val_recall: 0.3425\n",
      "Epoch 23/100\n",
      "\u001b[1m191/191\u001b[0m \u001b[32m━━━━━━━━━━━━━━━━━━━━\u001b[0m\u001b[37m\u001b[0m \u001b[1m5s\u001b[0m 24ms/step - accuracy: 0.6926 - loss: 0.6137 - precision: 0.7130 - recall: 0.4742 - val_accuracy: 0.6934 - val_loss: 0.6081 - val_precision: 0.7664 - val_recall: 0.4113\n",
      "Epoch 24/100\n",
      "\u001b[1m191/191\u001b[0m \u001b[32m━━━━━━━━━━━━━━━━━━━━\u001b[0m\u001b[37m\u001b[0m \u001b[1m5s\u001b[0m 24ms/step - accuracy: 0.7233 - loss: 0.5877 - precision: 0.7409 - recall: 0.5440 - val_accuracy: 0.7098 - val_loss: 0.5823 - val_precision: 0.7746 - val_recall: 0.4572\n",
      "Epoch 25/100\n",
      "\u001b[1m191/191\u001b[0m \u001b[32m━━━━━━━━━━━━━━━━━━━━\u001b[0m\u001b[37m\u001b[0m \u001b[1m5s\u001b[0m 26ms/step - accuracy: 0.7416 - loss: 0.5551 - precision: 0.7449 - recall: 0.5946 - val_accuracy: 0.7288 - val_loss: 0.5647 - val_precision: 0.8082 - val_recall: 0.4832\n",
      "Epoch 26/100\n",
      "\u001b[1m191/191\u001b[0m \u001b[32m━━━━━━━━━━━━━━━━━━━━\u001b[0m\u001b[37m\u001b[0m \u001b[1m5s\u001b[0m 24ms/step - accuracy: 0.7704 - loss: 0.5163 - precision: 0.7729 - recall: 0.6536 - val_accuracy: 0.7433 - val_loss: 0.5510 - val_precision: 0.8346 - val_recall: 0.5015\n",
      "Epoch 27/100\n",
      "\u001b[1m191/191\u001b[0m \u001b[32m━━━━━━━━━━━━━━━━━━━━\u001b[0m\u001b[37m\u001b[0m \u001b[1m5s\u001b[0m 24ms/step - accuracy: 0.7735 - loss: 0.5022 - precision: 0.7820 - recall: 0.6638 - val_accuracy: 0.7492 - val_loss: 0.5489 - val_precision: 0.8523 - val_recall: 0.5031\n",
      "Epoch 28/100\n",
      "\u001b[1m191/191\u001b[0m \u001b[32m━━━━━━━━━━━━━━━━━━━━\u001b[0m\u001b[37m\u001b[0m \u001b[1m5s\u001b[0m 24ms/step - accuracy: 0.7979 - loss: 0.4746 - precision: 0.8044 - recall: 0.6846 - val_accuracy: 0.7551 - val_loss: 0.5387 - val_precision: 0.8504 - val_recall: 0.5214\n",
      "Epoch 29/100\n",
      "\u001b[1m191/191\u001b[0m \u001b[32m━━━━━━━━━━━━━━━━━━━━\u001b[0m\u001b[37m\u001b[0m \u001b[1m5s\u001b[0m 24ms/step - accuracy: 0.7886 - loss: 0.4700 - precision: 0.7965 - recall: 0.6891 - val_accuracy: 0.7577 - val_loss: 0.5364 - val_precision: 0.8608 - val_recall: 0.5199\n",
      "Epoch 30/100\n",
      "\u001b[1m191/191\u001b[0m \u001b[32m━━━━━━━━━━━━━━━━━━━━\u001b[0m\u001b[37m\u001b[0m \u001b[1m5s\u001b[0m 24ms/step - accuracy: 0.8047 - loss: 0.4444 - precision: 0.8181 - recall: 0.7070 - val_accuracy: 0.7603 - val_loss: 0.5236 - val_precision: 0.8516 - val_recall: 0.5352\n",
      "Epoch 31/100\n",
      "\u001b[1m191/191\u001b[0m \u001b[32m━━━━━━━━━━━━━━━━━━━━\u001b[0m\u001b[37m\u001b[0m \u001b[1m5s\u001b[0m 24ms/step - accuracy: 0.8022 - loss: 0.4483 - precision: 0.8185 - recall: 0.6994 - val_accuracy: 0.7689 - val_loss: 0.5095 - val_precision: 0.8283 - val_recall: 0.5826\n",
      "Epoch 32/100\n",
      "\u001b[1m191/191\u001b[0m \u001b[32m━━━━━━━━━━━━━━━━━━━━\u001b[0m\u001b[37m\u001b[0m \u001b[1m5s\u001b[0m 25ms/step - accuracy: 0.8034 - loss: 0.4414 - precision: 0.8178 - recall: 0.7065 - val_accuracy: 0.7663 - val_loss: 0.5191 - val_precision: 0.8617 - val_recall: 0.5428\n",
      "Epoch 33/100\n",
      "\u001b[1m191/191\u001b[0m \u001b[32m━━━━━━━━━━━━━━━━━━━━\u001b[0m\u001b[37m\u001b[0m \u001b[1m5s\u001b[0m 24ms/step - accuracy: 0.8231 - loss: 0.4170 - precision: 0.8404 - recall: 0.7206 - val_accuracy: 0.7636 - val_loss: 0.5230 - val_precision: 0.8712 - val_recall: 0.5275\n",
      "Epoch 34/100\n",
      "\u001b[1m191/191\u001b[0m \u001b[32m━━━━━━━━━━━━━━━━━━━━\u001b[0m\u001b[37m\u001b[0m \u001b[1m5s\u001b[0m 24ms/step - accuracy: 0.8256 - loss: 0.4149 - precision: 0.8543 - recall: 0.7246 - val_accuracy: 0.7597 - val_loss: 0.5278 - val_precision: 0.8770 - val_recall: 0.5122\n",
      "Epoch 35/100\n",
      "\u001b[1m191/191\u001b[0m \u001b[32m━━━━━━━━━━━━━━━━━━━━\u001b[0m\u001b[37m\u001b[0m \u001b[1m5s\u001b[0m 24ms/step - accuracy: 0.8329 - loss: 0.4009 - precision: 0.8592 - recall: 0.7296 - val_accuracy: 0.7525 - val_loss: 0.5339 - val_precision: 0.8858 - val_recall: 0.4862\n",
      "Epoch 36/100\n",
      "\u001b[1m191/191\u001b[0m \u001b[32m━━━━━━━━━━━━━━━━━━━━\u001b[0m\u001b[37m\u001b[0m \u001b[1m5s\u001b[0m 24ms/step - accuracy: 0.8337 - loss: 0.3999 - precision: 0.8567 - recall: 0.7246 - val_accuracy: 0.7741 - val_loss: 0.5120 - val_precision: 0.8708 - val_recall: 0.5566\n",
      "Epoch 37/100\n",
      "\u001b[1m191/191\u001b[0m \u001b[32m━━━━━━━━━━━━━━━━━━━━\u001b[0m\u001b[37m\u001b[0m \u001b[1m5s\u001b[0m 24ms/step - accuracy: 0.8271 - loss: 0.4023 - precision: 0.8465 - recall: 0.7209 - val_accuracy: 0.7754 - val_loss: 0.5108 - val_precision: 0.8662 - val_recall: 0.5642\n",
      "Epoch 38/100\n",
      "\u001b[1m191/191\u001b[0m \u001b[32m━━━━━━━━━━━━━━━━━━━━\u001b[0m\u001b[37m\u001b[0m \u001b[1m5s\u001b[0m 24ms/step - accuracy: 0.8345 - loss: 0.3951 - precision: 0.8553 - recall: 0.7423 - val_accuracy: 0.7761 - val_loss: 0.5141 - val_precision: 0.8753 - val_recall: 0.5581\n",
      "Epoch 39/100\n",
      "\u001b[1m191/191\u001b[0m \u001b[32m━━━━━━━━━━━━━━━━━━━━\u001b[0m\u001b[37m\u001b[0m \u001b[1m5s\u001b[0m 25ms/step - accuracy: 0.8417 - loss: 0.3822 - precision: 0.8601 - recall: 0.7429 - val_accuracy: 0.7814 - val_loss: 0.4980 - val_precision: 0.8497 - val_recall: 0.5963\n",
      "Epoch 40/100\n",
      "\u001b[1m191/191\u001b[0m \u001b[32m━━━━━━━━━━━━━━━━━━━━\u001b[0m\u001b[37m\u001b[0m \u001b[1m5s\u001b[0m 24ms/step - accuracy: 0.8450 - loss: 0.3786 - precision: 0.8557 - recall: 0.7596 - val_accuracy: 0.7754 - val_loss: 0.5150 - val_precision: 0.8805 - val_recall: 0.5520\n",
      "Epoch 41/100\n",
      "\u001b[1m191/191\u001b[0m \u001b[32m━━━━━━━━━━━━━━━━━━━━\u001b[0m\u001b[37m\u001b[0m \u001b[1m5s\u001b[0m 24ms/step - accuracy: 0.8440 - loss: 0.3699 - precision: 0.8672 - recall: 0.7534 - val_accuracy: 0.7820 - val_loss: 0.5090 - val_precision: 0.8744 - val_recall: 0.5749\n",
      "Epoch 42/100\n",
      "\u001b[1m191/191\u001b[0m \u001b[32m━━━━━━━━━━━━━━━━━━━━\u001b[0m\u001b[37m\u001b[0m \u001b[1m5s\u001b[0m 24ms/step - accuracy: 0.8457 - loss: 0.3716 - precision: 0.8644 - recall: 0.7608 - val_accuracy: 0.7807 - val_loss: 0.4933 - val_precision: 0.8347 - val_recall: 0.6101\n",
      "Epoch 43/100\n",
      "\u001b[1m191/191\u001b[0m \u001b[32m━━━━━━━━━━━━━━━━━━━━\u001b[0m\u001b[37m\u001b[0m \u001b[1m5s\u001b[0m 25ms/step - accuracy: 0.8522 - loss: 0.3579 - precision: 0.8752 - recall: 0.7701 - val_accuracy: 0.7827 - val_loss: 0.5058 - val_precision: 0.8747 - val_recall: 0.5765\n",
      "Epoch 44/100\n",
      "\u001b[1m191/191\u001b[0m \u001b[32m━━━━━━━━━━━━━━━━━━━━\u001b[0m\u001b[37m\u001b[0m \u001b[1m5s\u001b[0m 24ms/step - accuracy: 0.8480 - loss: 0.3613 - precision: 0.8740 - recall: 0.7596 - val_accuracy: 0.7820 - val_loss: 0.4910 - val_precision: 0.8286 - val_recall: 0.6208\n",
      "Epoch 45/100\n",
      "\u001b[1m191/191\u001b[0m \u001b[32m━━━━━━━━━━━━━━━━━━━━\u001b[0m\u001b[37m\u001b[0m \u001b[1m5s\u001b[0m 25ms/step - accuracy: 0.8560 - loss: 0.3540 - precision: 0.8748 - recall: 0.7736 - val_accuracy: 0.7853 - val_loss: 0.4970 - val_precision: 0.8593 - val_recall: 0.5979\n",
      "Epoch 46/100\n",
      "\u001b[1m191/191\u001b[0m \u001b[32m━━━━━━━━━━━━━━━━━━━━\u001b[0m\u001b[37m\u001b[0m \u001b[1m5s\u001b[0m 25ms/step - accuracy: 0.8627 - loss: 0.3373 - precision: 0.8848 - recall: 0.7852 - val_accuracy: 0.7846 - val_loss: 0.5120 - val_precision: 0.8844 - val_recall: 0.5734\n",
      "Epoch 47/100\n",
      "\u001b[1m191/191\u001b[0m \u001b[32m━━━━━━━━━━━━━━━━━━━━\u001b[0m\u001b[37m\u001b[0m \u001b[1m5s\u001b[0m 24ms/step - accuracy: 0.8531 - loss: 0.3556 - precision: 0.8746 - recall: 0.7714 - val_accuracy: 0.7853 - val_loss: 0.4988 - val_precision: 0.8562 - val_recall: 0.6009\n",
      "Epoch 48/100\n",
      "\u001b[1m191/191\u001b[0m \u001b[32m━━━━━━━━━━━━━━━━━━━━\u001b[0m\u001b[37m\u001b[0m \u001b[1m5s\u001b[0m 24ms/step - accuracy: 0.8640 - loss: 0.3364 - precision: 0.8854 - recall: 0.7810 - val_accuracy: 0.7866 - val_loss: 0.4868 - val_precision: 0.8257 - val_recall: 0.6376\n",
      "Epoch 49/100\n",
      "\u001b[1m191/191\u001b[0m \u001b[32m━━━━━━━━━━━━━━━━━━━━\u001b[0m\u001b[37m\u001b[0m \u001b[1m5s\u001b[0m 24ms/step - accuracy: 0.8688 - loss: 0.3273 - precision: 0.8856 - recall: 0.7972 - val_accuracy: 0.7859 - val_loss: 0.5018 - val_precision: 0.8644 - val_recall: 0.5948\n",
      "Epoch 50/100\n",
      "\u001b[1m191/191\u001b[0m \u001b[32m━━━━━━━━━━━━━━━━━━━━\u001b[0m\u001b[37m\u001b[0m \u001b[1m5s\u001b[0m 25ms/step - accuracy: 0.8714 - loss: 0.3188 - precision: 0.8936 - recall: 0.8005 - val_accuracy: 0.7886 - val_loss: 0.5173 - val_precision: 0.8934 - val_recall: 0.5765\n",
      "Epoch 51/100\n",
      "\u001b[1m191/191\u001b[0m \u001b[32m━━━━━━━━━━━━━━━━━━━━\u001b[0m\u001b[37m\u001b[0m \u001b[1m5s\u001b[0m 24ms/step - accuracy: 0.8714 - loss: 0.3256 - precision: 0.8976 - recall: 0.7878 - val_accuracy: 0.7846 - val_loss: 0.5286 - val_precision: 0.8956 - val_recall: 0.5642\n",
      "Epoch 52/100\n",
      "\u001b[1m191/191\u001b[0m \u001b[32m━━━━━━━━━━━━━━━━━━━━\u001b[0m\u001b[37m\u001b[0m \u001b[1m5s\u001b[0m 25ms/step - accuracy: 0.8755 - loss: 0.3077 - precision: 0.8921 - recall: 0.8119 - val_accuracy: 0.7892 - val_loss: 0.5076 - val_precision: 0.8708 - val_recall: 0.5979\n",
      "Epoch 53/100\n",
      "\u001b[1m191/191\u001b[0m \u001b[32m━━━━━━━━━━━━━━━━━━━━\u001b[0m\u001b[37m\u001b[0m \u001b[1m5s\u001b[0m 24ms/step - accuracy: 0.8740 - loss: 0.3132 - precision: 0.9009 - recall: 0.7994 - val_accuracy: 0.7905 - val_loss: 0.4895 - val_precision: 0.8278 - val_recall: 0.6468\n",
      "Epoch 54/100\n",
      "\u001b[1m191/191\u001b[0m \u001b[32m━━━━━━━━━━━━━━━━━━━━\u001b[0m\u001b[37m\u001b[0m \u001b[1m5s\u001b[0m 24ms/step - accuracy: 0.8808 - loss: 0.3026 - precision: 0.8990 - recall: 0.8103 - val_accuracy: 0.7873 - val_loss: 0.4967 - val_precision: 0.8541 - val_recall: 0.6086\n",
      "Epoch 55/100\n",
      "\u001b[1m191/191\u001b[0m \u001b[32m━━━━━━━━━━━━━━━━━━━━\u001b[0m\u001b[37m\u001b[0m \u001b[1m5s\u001b[0m 24ms/step - accuracy: 0.8741 - loss: 0.3039 - precision: 0.8903 - recall: 0.8108 - val_accuracy: 0.7899 - val_loss: 0.4973 - val_precision: 0.8422 - val_recall: 0.6284\n",
      "Epoch 56/100\n",
      "\u001b[1m191/191\u001b[0m \u001b[32m━━━━━━━━━━━━━━━━━━━━\u001b[0m\u001b[37m\u001b[0m \u001b[1m5s\u001b[0m 24ms/step - accuracy: 0.8832 - loss: 0.2979 - precision: 0.9032 - recall: 0.8187 - val_accuracy: 0.7899 - val_loss: 0.5016 - val_precision: 0.8615 - val_recall: 0.6086\n",
      "Epoch 57/100\n",
      "\u001b[1m191/191\u001b[0m \u001b[32m━━━━━━━━━━━━━━━━━━━━\u001b[0m\u001b[37m\u001b[0m \u001b[1m5s\u001b[0m 24ms/step - accuracy: 0.8754 - loss: 0.3008 - precision: 0.8944 - recall: 0.8034 - val_accuracy: 0.7905 - val_loss: 0.4994 - val_precision: 0.8454 - val_recall: 0.6269\n",
      "Epoch 58/100\n",
      "\u001b[1m191/191\u001b[0m \u001b[32m━━━━━━━━━━━━━━━━━━━━\u001b[0m\u001b[37m\u001b[0m \u001b[1m5s\u001b[0m 24ms/step - accuracy: 0.8798 - loss: 0.2970 - precision: 0.9023 - recall: 0.8140 - val_accuracy: 0.7932 - val_loss: 0.4931 - val_precision: 0.8343 - val_recall: 0.6468\n",
      "Epoch 59/100\n",
      "\u001b[1m191/191\u001b[0m \u001b[32m━━━━━━━━━━━━━━━━━━━━\u001b[0m\u001b[37m\u001b[0m \u001b[1m5s\u001b[0m 25ms/step - accuracy: 0.8800 - loss: 0.2945 - precision: 0.8909 - recall: 0.8197 - val_accuracy: 0.7866 - val_loss: 0.4904 - val_precision: 0.8075 - val_recall: 0.6606\n",
      "Epoch 60/100\n",
      "\u001b[1m191/191\u001b[0m \u001b[32m━━━━━━━━━━━━━━━━━━━━\u001b[0m\u001b[37m\u001b[0m \u001b[1m5s\u001b[0m 24ms/step - accuracy: 0.8845 - loss: 0.2926 - precision: 0.8954 - recall: 0.8219 - val_accuracy: 0.7859 - val_loss: 0.4909 - val_precision: 0.7960 - val_recall: 0.6743\n",
      "Epoch 61/100\n",
      "\u001b[1m191/191\u001b[0m \u001b[32m━━━━━━━━━━━━━━━━━━━━\u001b[0m\u001b[37m\u001b[0m \u001b[1m5s\u001b[0m 24ms/step - accuracy: 0.8898 - loss: 0.2801 - precision: 0.9023 - recall: 0.8399 - val_accuracy: 0.7951 - val_loss: 0.4962 - val_precision: 0.8340 - val_recall: 0.6529\n",
      "Epoch 62/100\n",
      "\u001b[1m191/191\u001b[0m \u001b[32m━━━━━━━━━━━━━━━━━━━━\u001b[0m\u001b[37m\u001b[0m \u001b[1m5s\u001b[0m 24ms/step - accuracy: 0.8935 - loss: 0.2702 - precision: 0.9075 - recall: 0.8428 - val_accuracy: 0.7892 - val_loss: 0.4933 - val_precision: 0.8184 - val_recall: 0.6544\n",
      "Epoch 63/100\n",
      "\u001b[1m191/191\u001b[0m \u001b[32m━━━━━━━━━━━━━━━━━━━━\u001b[0m\u001b[37m\u001b[0m \u001b[1m5s\u001b[0m 24ms/step - accuracy: 0.8946 - loss: 0.2655 - precision: 0.9117 - recall: 0.8403 - val_accuracy: 0.7958 - val_loss: 0.4981 - val_precision: 0.8437 - val_recall: 0.6437\n",
      "Epoch 64/100\n",
      "\u001b[1m191/191\u001b[0m \u001b[32m━━━━━━━━━━━━━━━━━━━━\u001b[0m\u001b[37m\u001b[0m \u001b[1m5s\u001b[0m 24ms/step - accuracy: 0.8952 - loss: 0.2677 - precision: 0.9059 - recall: 0.8404 - val_accuracy: 0.7965 - val_loss: 0.5011 - val_precision: 0.8468 - val_recall: 0.6422\n",
      "Epoch 65/100\n",
      "\u001b[1m191/191\u001b[0m \u001b[32m━━━━━━━━━━━━━━━━━━━━\u001b[0m\u001b[37m\u001b[0m \u001b[1m5s\u001b[0m 24ms/step - accuracy: 0.8879 - loss: 0.2748 - precision: 0.9034 - recall: 0.8313 - val_accuracy: 0.7938 - val_loss: 0.5002 - val_precision: 0.8320 - val_recall: 0.6514\n",
      "Epoch 66/100\n",
      "\u001b[1m191/191\u001b[0m \u001b[32m━━━━━━━━━━━━━━━━━━━━\u001b[0m\u001b[37m\u001b[0m \u001b[1m5s\u001b[0m 25ms/step - accuracy: 0.8915 - loss: 0.2693 - precision: 0.9044 - recall: 0.8427 - val_accuracy: 0.7971 - val_loss: 0.5046 - val_precision: 0.8429 - val_recall: 0.6483\n",
      "Epoch 67/100\n",
      "\u001b[1m191/191\u001b[0m \u001b[32m━━━━━━━━━━━━━━━━━━━━\u001b[0m\u001b[37m\u001b[0m \u001b[1m5s\u001b[0m 24ms/step - accuracy: 0.8987 - loss: 0.2607 - precision: 0.9100 - recall: 0.8451 - val_accuracy: 0.7919 - val_loss: 0.5233 - val_precision: 0.8655 - val_recall: 0.6101\n",
      "Epoch 68/100\n",
      "\u001b[1m191/191\u001b[0m \u001b[32m━━━━━━━━━━━━━━━━━━━━\u001b[0m\u001b[37m\u001b[0m \u001b[1m5s\u001b[0m 24ms/step - accuracy: 0.8967 - loss: 0.2582 - precision: 0.9139 - recall: 0.8372 - val_accuracy: 0.7912 - val_loss: 0.5010 - val_precision: 0.8146 - val_recall: 0.6651\n",
      "Epoch 69/100\n",
      "\u001b[1m191/191\u001b[0m \u001b[32m━━━━━━━━━━━━━━━━━━━━\u001b[0m\u001b[37m\u001b[0m \u001b[1m5s\u001b[0m 25ms/step - accuracy: 0.9079 - loss: 0.2406 - precision: 0.9162 - recall: 0.8630 - val_accuracy: 0.7932 - val_loss: 0.4998 - val_precision: 0.7811 - val_recall: 0.7202\n",
      "Epoch 70/100\n",
      "\u001b[1m191/191\u001b[0m \u001b[32m━━━━━━━━━━━━━━━━━━━━\u001b[0m\u001b[37m\u001b[0m \u001b[1m5s\u001b[0m 24ms/step - accuracy: 0.9009 - loss: 0.2520 - precision: 0.9045 - recall: 0.8579 - val_accuracy: 0.7965 - val_loss: 0.5110 - val_precision: 0.8359 - val_recall: 0.6544\n",
      "Epoch 71/100\n",
      "\u001b[1m191/191\u001b[0m \u001b[32m━━━━━━━━━━━━━━━━━━━━\u001b[0m\u001b[37m\u001b[0m \u001b[1m5s\u001b[0m 24ms/step - accuracy: 0.9053 - loss: 0.2471 - precision: 0.9170 - recall: 0.8566 - val_accuracy: 0.7912 - val_loss: 0.5017 - val_precision: 0.7979 - val_recall: 0.6881\n",
      "Epoch 72/100\n",
      "\u001b[1m191/191\u001b[0m \u001b[32m━━━━━━━━━━━━━━━━━━━━\u001b[0m\u001b[37m\u001b[0m \u001b[1m5s\u001b[0m 25ms/step - accuracy: 0.9001 - loss: 0.2586 - precision: 0.9118 - recall: 0.8470 - val_accuracy: 0.7919 - val_loss: 0.5066 - val_precision: 0.7841 - val_recall: 0.7110\n",
      "Epoch 73/100\n",
      "\u001b[1m191/191\u001b[0m \u001b[32m━━━━━━━━━━━━━━━━━━━━\u001b[0m\u001b[37m\u001b[0m \u001b[1m5s\u001b[0m 24ms/step - accuracy: 0.9081 - loss: 0.2406 - precision: 0.9220 - recall: 0.8595 - val_accuracy: 0.7958 - val_loss: 0.5066 - val_precision: 0.8267 - val_recall: 0.6636\n",
      "Epoch 74/100\n",
      "\u001b[1m191/191\u001b[0m \u001b[32m━━━━━━━━━━━━━━━━━━━━\u001b[0m\u001b[37m\u001b[0m \u001b[1m5s\u001b[0m 24ms/step - accuracy: 0.9044 - loss: 0.2443 - precision: 0.9133 - recall: 0.8556 - val_accuracy: 0.7919 - val_loss: 0.5066 - val_precision: 0.7890 - val_recall: 0.7034\n",
      "Epoch 75/100\n",
      "\u001b[1m191/191\u001b[0m \u001b[32m━━━━━━━━━━━━━━━━━━━━\u001b[0m\u001b[37m\u001b[0m \u001b[1m5s\u001b[0m 24ms/step - accuracy: 0.9157 - loss: 0.2301 - precision: 0.9233 - recall: 0.8752 - val_accuracy: 0.7951 - val_loss: 0.5113 - val_precision: 0.8301 - val_recall: 0.6575\n",
      "Epoch 76/100\n",
      "\u001b[1m191/191\u001b[0m \u001b[32m━━━━━━━━━━━━━━━━━━━━\u001b[0m\u001b[37m\u001b[0m \u001b[1m5s\u001b[0m 24ms/step - accuracy: 0.9107 - loss: 0.2309 - precision: 0.9205 - recall: 0.8688 - val_accuracy: 0.7932 - val_loss: 0.5090 - val_precision: 0.7747 - val_recall: 0.7309\n",
      "Epoch 77/100\n",
      "\u001b[1m191/191\u001b[0m \u001b[32m━━━━━━━━━━━━━━━━━━━━\u001b[0m\u001b[37m\u001b[0m \u001b[1m5s\u001b[0m 24ms/step - accuracy: 0.9090 - loss: 0.2425 - precision: 0.9122 - recall: 0.8722 - val_accuracy: 0.7951 - val_loss: 0.5176 - val_precision: 0.8132 - val_recall: 0.6789\n",
      "Epoch 78/100\n",
      "\u001b[1m191/191\u001b[0m \u001b[32m━━━━━━━━━━━━━━━━━━━━\u001b[0m\u001b[37m\u001b[0m \u001b[1m5s\u001b[0m 24ms/step - accuracy: 0.9149 - loss: 0.2205 - precision: 0.9231 - recall: 0.8807 - val_accuracy: 0.7873 - val_loss: 0.5136 - val_precision: 0.7578 - val_recall: 0.7416\n"
     ]
    }
   ],
   "source": [
    "# Model Train \n",
    "history = model.fit(X_train_padded, \n",
    "                    y_train_tensor, \n",
    "                    epochs=100, \n",
    "                    #batch_size=32,\n",
    "                    validation_data=(X_val_padded, y_val_tensor),\n",
    "                    callbacks=[EarlyStopping(patience=30)]\n",
    "                   )"
   ]
  },
  {
   "cell_type": "code",
   "execution_count": 47,
   "id": "d48855a3",
   "metadata": {
    "execution": {
     "iopub.execute_input": "2024-03-25T20:29:34.545910Z",
     "iopub.status.busy": "2024-03-25T20:29:34.545516Z",
     "iopub.status.idle": "2024-03-25T20:29:35.527049Z",
     "shell.execute_reply": "2024-03-25T20:29:35.526083Z"
    },
    "papermill": {
     "duration": 1.46536,
     "end_time": "2024-03-25T20:29:35.529913",
     "exception": false,
     "start_time": "2024-03-25T20:29:34.064553",
     "status": "completed"
    },
    "tags": []
   },
   "outputs": [
    {
     "data": {
      "image/png": "[encoded data removed]",
      "text/plain": [
       "<Figure size 1600x500 with 2 Axes>"
      ]
     },
     "metadata": {},
     "output_type": "display_data"
    }
   ],
   "source": [
    "# Set the background color and theme\n",
    "background_color = '#5fa1bc'\n",
    "sns.set_theme(style=\"whitegrid\", rc={\"axes.facecolor\": background_color})\n",
    "\n",
    "# Get the epoch with the highest validation accuracy\n",
    "# best_epoch = history.history['val_accuracy'].index(max(history.history['val_accuracy'])) + 1\n",
    "\n",
    "# Create a subplot with 1 row and 2 columns\n",
    "fig, axs = plt.subplots(1, 2, figsize=(16, 5))\n",
    "\n",
    "# Plot training and validation accuracy\n",
    "axs[0].plot(history.history['accuracy'], label='Training Accuracy', color='blue')\n",
    "axs[0].plot(history.history['val_accuracy'], label='Validation Accuracy', color='red')\n",
    "# axs[0].scatter(best_epoch - 1, history.history['val_accuracy'][best_epoch - 1], color='green', label=f'Best Epoch: {best_epoch}')\n",
    "axs[0].set_xlabel('Epoch')\n",
    "axs[0].set_ylabel('Accuracy')\n",
    "axs[0].set_title('Training and Validation Accuracy')\n",
    "axs[0].legend()\n",
    "\n",
    "# Plot training and validation loss\n",
    "axs[1].plot(history.history['loss'], label='Training Loss', color='blue')\n",
    "axs[1].plot(history.history['val_loss'], label='Validation Loss', color='red')\n",
    "# axs[1].scatter(best_epoch - 1, history.history['val_loss'][best_epoch - 1], color='green',label=f'Best Epoch: {best_epoch}')\n",
    "axs[1].set_xlabel('Epoch')\n",
    "axs[1].set_ylabel('Loss')\n",
    "axs[1].set_title('Training and Validation Loss')\n",
    "axs[1].legend()\n",
    "\n",
    "plt.tight_layout()\n",
    "plt.show()"
   ]
  },
  {
   "cell_type": "code",
   "execution_count": 48,
   "id": "89822c6e",
   "metadata": {
    "execution": {
     "iopub.execute_input": "2024-03-25T20:29:36.613742Z",
     "iopub.status.busy": "2024-03-25T20:29:36.612665Z",
     "iopub.status.idle": "2024-03-25T20:29:39.225869Z",
     "shell.execute_reply": "2024-03-25T20:29:39.224567Z"
    },
    "papermill": {
     "duration": 3.180333,
     "end_time": "2024-03-25T20:29:39.228599",
     "exception": false,
     "start_time": "2024-03-25T20:29:36.048266",
     "status": "completed"
    },
    "tags": []
   },
   "outputs": [
    {
     "name": "stdout",
     "output_type": "stream",
     "text": [
      "\u001b[1m102/102\u001b[0m \u001b[32m━━━━━━━━━━━━━━━━━━━━\u001b[0m\u001b[37m\u001b[0m \u001b[1m2s\u001b[0m 16ms/step\n"
     ]
    }
   ],
   "source": [
    "# Predictions On Test For Confustion Matrix \n",
    "y_pred = model.predict(X_test_padded)\n",
    "y_pred_bin = np.where(y_pred >= 0.5, 1, 0)"
   ]
  },
  {
   "cell_type": "code",
   "execution_count": 49,
   "id": "28403843",
   "metadata": {
    "execution": {
     "iopub.execute_input": "2024-03-25T20:29:40.233749Z",
     "iopub.status.busy": "2024-03-25T20:29:40.233368Z",
     "iopub.status.idle": "2024-03-25T20:29:40.247460Z",
     "shell.execute_reply": "2024-03-25T20:29:40.246369Z"
    },
    "papermill": {
     "duration": 0.50377,
     "end_time": "2024-03-25T20:29:40.249690",
     "exception": false,
     "start_time": "2024-03-25T20:29:39.745920",
     "status": "completed"
    },
    "tags": []
   },
   "outputs": [],
   "source": [
    "#submission = pd.read_csv('/kaggle/input/nlp-getting-started/sample_submission.csv')\n",
    "test['target'] = y_pred_bin\n",
    "test[['id', 'target']].to_csv('/kaggle/working/prediction.csv', index=False)"
   ]
  },
  {
   "cell_type": "code",
   "execution_count": null,
   "id": "0346b066",
   "metadata": {
    "papermill": {
     "duration": 0.474139,
     "end_time": "2024-03-25T20:29:41.225577",
     "exception": false,
     "start_time": "2024-03-25T20:29:40.751438",
     "status": "completed"
    },
    "tags": []
   },
   "outputs": [],
   "source": []
  }
 ],
 "metadata": {
  "kaggle": {
   "accelerator": "nvidiaTeslaT4",
   "dataSources": [
    {
     "databundleVersionId": 869809,
     "sourceId": 17777,
     "sourceType": "competition"
    }
   ],
   "dockerImageVersionId": 30674,
   "isGpuEnabled": true,
   "isInternetEnabled": true,
   "language": "python",
   "sourceType": "notebook"
  },
  "kernelspec": {
   "display_name": "Python 3",
   "language": "python",
   "name": "python3"
  },
  "language_info": {
   "codemirror_mode": {
    "name": "ipython",
    "version": 3
   },
   "file_extension": ".py",
   "mimetype": "text/x-python",
   "name": "python",
   "nbconvert_exporter": "python",
   "pygments_lexer": "ipython3",
   "version": "3.10.13"
  },
  "papermill": {
   "default_parameters": {},
   "duration": 420.562034,
   "end_time": "2024-03-25T20:29:45.058165",
   "environment_variables": {},
   "exception": null,
   "input_path": "__notebook__.ipynb",
   "output_path": "__notebook__.ipynb",
   "parameters": {},
   "start_time": "2024-03-25T20:22:44.496131",
   "version": "2.5.0"
  }
 },
 "nbformat": 4,
 "nbformat_minor": 5
}
